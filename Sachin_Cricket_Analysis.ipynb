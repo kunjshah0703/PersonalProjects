{
 "cells": [
  {
   "cell_type": "code",
   "execution_count": 3,
   "metadata": {},
   "outputs": [
    {
     "data": {
      "text/plain": [
       "'c:\\\\Users\\\\Kunj Shah\\\\OneDrive\\\\Desktop\\\\Python_Personal_Projects'"
      ]
     },
     "execution_count": 3,
     "metadata": {},
     "output_type": "execute_result"
    }
   ],
   "source": [
    "pwd"
   ]
  },
  {
   "cell_type": "code",
   "execution_count": 4,
   "metadata": {},
   "outputs": [],
   "source": [
    "import os\n"
   ]
  },
  {
   "cell_type": "code",
   "execution_count": 5,
   "metadata": {},
   "outputs": [],
   "source": [
    "os.chdir(r'C:\\Users\\Kunj Shah\\Downloads')"
   ]
  },
  {
   "cell_type": "code",
   "execution_count": 6,
   "metadata": {},
   "outputs": [
    {
     "data": {
      "text/plain": [
       "'C:\\\\Users\\\\Kunj Shah\\\\Downloads'"
      ]
     },
     "execution_count": 6,
     "metadata": {},
     "output_type": "execute_result"
    }
   ],
   "source": [
    "pwd"
   ]
  },
  {
   "cell_type": "code",
   "execution_count": 7,
   "metadata": {},
   "outputs": [],
   "source": [
    "import pandas as pd"
   ]
  },
  {
   "cell_type": "code",
   "execution_count": 8,
   "metadata": {},
   "outputs": [],
   "source": [
    "sachin_cricket_analysis = pd.read_excel(r'C:\\Users\\Kunj Shah\\Downloads\\sachin_batting_scores.xls')"
   ]
  },
  {
   "cell_type": "code",
   "execution_count": 9,
   "metadata": {},
   "outputs": [
    {
     "name": "stdout",
     "output_type": "stream",
     "text": [
      "Defaulting to user installation because normal site-packages is not writeable\n",
      "Requirement already satisfied: xlrd in c:\\users\\kunj shah\\appdata\\roaming\\python\\python311\\site-packages (2.0.1)\n",
      "Note: you may need to restart the kernel to use updated packages.\n"
     ]
    }
   ],
   "source": [
    "pip install xlrd"
   ]
  },
  {
   "cell_type": "code",
   "execution_count": 10,
   "metadata": {},
   "outputs": [
    {
     "data": {
      "text/html": [
       "<div>\n",
       "<style scoped>\n",
       "    .dataframe tbody tr th:only-of-type {\n",
       "        vertical-align: middle;\n",
       "    }\n",
       "\n",
       "    .dataframe tbody tr th {\n",
       "        vertical-align: top;\n",
       "    }\n",
       "\n",
       "    .dataframe thead th {\n",
       "        text-align: right;\n",
       "    }\n",
       "</style>\n",
       "<table border=\"1\" class=\"dataframe\">\n",
       "  <thead>\n",
       "    <tr style=\"text-align: right;\">\n",
       "      <th></th>\n",
       "      <th>Match</th>\n",
       "      <th>Innings</th>\n",
       "      <th>match_date</th>\n",
       "      <th>Versus</th>\n",
       "      <th>Ground</th>\n",
       "      <th>How Dismissed</th>\n",
       "      <th>Runs</th>\n",
       "      <th>Balls_faced</th>\n",
       "      <th>strike_rate</th>\n",
       "    </tr>\n",
       "  </thead>\n",
       "  <tbody>\n",
       "    <tr>\n",
       "      <th>0</th>\n",
       "      <td>1</td>\n",
       "      <td>1.0</td>\n",
       "      <td>1989-12-18</td>\n",
       "      <td>Pakistan</td>\n",
       "      <td>Jinnah Stadium (Gujwranwala)</td>\n",
       "      <td>c Wasim Akram b Waqar Younis</td>\n",
       "      <td>0.0</td>\n",
       "      <td>2.0</td>\n",
       "      <td>0.00</td>\n",
       "    </tr>\n",
       "    <tr>\n",
       "      <th>1</th>\n",
       "      <td>2</td>\n",
       "      <td>2.0</td>\n",
       "      <td>1990-03-01</td>\n",
       "      <td>New Zealand</td>\n",
       "      <td>Carisbrook</td>\n",
       "      <td>c &amp; b S A Thomson</td>\n",
       "      <td>0.0</td>\n",
       "      <td>2.0</td>\n",
       "      <td>0.00</td>\n",
       "    </tr>\n",
       "    <tr>\n",
       "      <th>2</th>\n",
       "      <td>3</td>\n",
       "      <td>3.0</td>\n",
       "      <td>1990-03-06</td>\n",
       "      <td>New Zealand</td>\n",
       "      <td>Basin Reserve</td>\n",
       "      <td>c †I D S Smith b S A Thomson</td>\n",
       "      <td>36.0</td>\n",
       "      <td>39.0</td>\n",
       "      <td>92.31</td>\n",
       "    </tr>\n",
       "    <tr>\n",
       "      <th>3</th>\n",
       "      <td>4</td>\n",
       "      <td>4.0</td>\n",
       "      <td>1990-04-25</td>\n",
       "      <td>Sri Lanka</td>\n",
       "      <td>Sharjah Cricket Stadium</td>\n",
       "      <td>run out</td>\n",
       "      <td>10.0</td>\n",
       "      <td>12.0</td>\n",
       "      <td>83.33</td>\n",
       "    </tr>\n",
       "    <tr>\n",
       "      <th>4</th>\n",
       "      <td>5</td>\n",
       "      <td>5.0</td>\n",
       "      <td>1990-04-27</td>\n",
       "      <td>Pakistan</td>\n",
       "      <td>Sharjah Cricket Stadium</td>\n",
       "      <td>c Saeed Anwar b Imran Khan</td>\n",
       "      <td>20.0</td>\n",
       "      <td>25.0</td>\n",
       "      <td>80.00</td>\n",
       "    </tr>\n",
       "  </tbody>\n",
       "</table>\n",
       "</div>"
      ],
      "text/plain": [
       "   Match  Innings match_date       Versus                        Ground  \\\n",
       "0      1      1.0 1989-12-18     Pakistan  Jinnah Stadium (Gujwranwala)   \n",
       "1      2      2.0 1990-03-01  New Zealand                    Carisbrook   \n",
       "2      3      3.0 1990-03-06  New Zealand                 Basin Reserve   \n",
       "3      4      4.0 1990-04-25    Sri Lanka       Sharjah Cricket Stadium   \n",
       "4      5      5.0 1990-04-27     Pakistan       Sharjah Cricket Stadium   \n",
       "\n",
       "                  How Dismissed  Runs  Balls_faced  strike_rate  \n",
       "0  c Wasim Akram b Waqar Younis   0.0          2.0         0.00  \n",
       "1             c & b S A Thomson   0.0          2.0         0.00  \n",
       "2  c †I D S Smith b S A Thomson  36.0         39.0        92.31  \n",
       "3                       run out  10.0         12.0        83.33  \n",
       "4    c Saeed Anwar b Imran Khan  20.0         25.0        80.00  "
      ]
     },
     "execution_count": 10,
     "metadata": {},
     "output_type": "execute_result"
    }
   ],
   "source": [
    "sachin_cricket_analysis.head()"
   ]
  },
  {
   "cell_type": "code",
   "execution_count": 11,
   "metadata": {},
   "outputs": [
    {
     "name": "stdout",
     "output_type": "stream",
     "text": [
      "<class 'pandas.core.frame.DataFrame'>\n",
      "RangeIndex: 463 entries, 0 to 462\n",
      "Data columns (total 9 columns):\n",
      " #   Column         Non-Null Count  Dtype         \n",
      "---  ------         --------------  -----         \n",
      " 0   Match          463 non-null    int64         \n",
      " 1   Innings        452 non-null    float64       \n",
      " 2   match_date     463 non-null    datetime64[ns]\n",
      " 3   Versus         463 non-null    object        \n",
      " 4   Ground         463 non-null    object        \n",
      " 5   How Dismissed  463 non-null    object        \n",
      " 6   Runs           452 non-null    float64       \n",
      " 7   Balls_faced    452 non-null    float64       \n",
      " 8   strike_rate    452 non-null    float64       \n",
      "dtypes: datetime64[ns](1), float64(4), int64(1), object(3)\n",
      "memory usage: 32.7+ KB\n"
     ]
    }
   ],
   "source": [
    "sachin_cricket_analysis.info()"
   ]
  },
  {
   "cell_type": "code",
   "execution_count": 12,
   "metadata": {},
   "outputs": [
    {
     "data": {
      "text/html": [
       "<div>\n",
       "<style scoped>\n",
       "    .dataframe tbody tr th:only-of-type {\n",
       "        vertical-align: middle;\n",
       "    }\n",
       "\n",
       "    .dataframe tbody tr th {\n",
       "        vertical-align: top;\n",
       "    }\n",
       "\n",
       "    .dataframe thead th {\n",
       "        text-align: right;\n",
       "    }\n",
       "</style>\n",
       "<table border=\"1\" class=\"dataframe\">\n",
       "  <thead>\n",
       "    <tr style=\"text-align: right;\">\n",
       "      <th></th>\n",
       "      <th>Match</th>\n",
       "      <th>Innings</th>\n",
       "      <th>Runs</th>\n",
       "      <th>Balls_faced</th>\n",
       "      <th>strike_rate</th>\n",
       "    </tr>\n",
       "  </thead>\n",
       "  <tbody>\n",
       "    <tr>\n",
       "      <th>count</th>\n",
       "      <td>463.000000</td>\n",
       "      <td>452.000000</td>\n",
       "      <td>452.000000</td>\n",
       "      <td>452.000000</td>\n",
       "      <td>452.000000</td>\n",
       "    </tr>\n",
       "    <tr>\n",
       "      <th>mean</th>\n",
       "      <td>232.000000</td>\n",
       "      <td>226.500000</td>\n",
       "      <td>40.765487</td>\n",
       "      <td>47.272124</td>\n",
       "      <td>74.587611</td>\n",
       "    </tr>\n",
       "    <tr>\n",
       "      <th>std</th>\n",
       "      <td>133.800847</td>\n",
       "      <td>130.625419</td>\n",
       "      <td>40.039480</td>\n",
       "      <td>40.015394</td>\n",
       "      <td>35.904389</td>\n",
       "    </tr>\n",
       "    <tr>\n",
       "      <th>min</th>\n",
       "      <td>1.000000</td>\n",
       "      <td>1.000000</td>\n",
       "      <td>0.000000</td>\n",
       "      <td>1.000000</td>\n",
       "      <td>0.000000</td>\n",
       "    </tr>\n",
       "    <tr>\n",
       "      <th>25%</th>\n",
       "      <td>116.500000</td>\n",
       "      <td>113.750000</td>\n",
       "      <td>8.000000</td>\n",
       "      <td>15.000000</td>\n",
       "      <td>54.550000</td>\n",
       "    </tr>\n",
       "    <tr>\n",
       "      <th>50%</th>\n",
       "      <td>232.000000</td>\n",
       "      <td>226.500000</td>\n",
       "      <td>28.500000</td>\n",
       "      <td>33.000000</td>\n",
       "      <td>75.865000</td>\n",
       "    </tr>\n",
       "    <tr>\n",
       "      <th>75%</th>\n",
       "      <td>347.500000</td>\n",
       "      <td>339.250000</td>\n",
       "      <td>63.000000</td>\n",
       "      <td>70.000000</td>\n",
       "      <td>97.587500</td>\n",
       "    </tr>\n",
       "    <tr>\n",
       "      <th>max</th>\n",
       "      <td>463.000000</td>\n",
       "      <td>452.000000</td>\n",
       "      <td>200.000000</td>\n",
       "      <td>153.000000</td>\n",
       "      <td>196.550000</td>\n",
       "    </tr>\n",
       "  </tbody>\n",
       "</table>\n",
       "</div>"
      ],
      "text/plain": [
       "            Match     Innings        Runs  Balls_faced  strike_rate\n",
       "count  463.000000  452.000000  452.000000   452.000000   452.000000\n",
       "mean   232.000000  226.500000   40.765487    47.272124    74.587611\n",
       "std    133.800847  130.625419   40.039480    40.015394    35.904389\n",
       "min      1.000000    1.000000    0.000000     1.000000     0.000000\n",
       "25%    116.500000  113.750000    8.000000    15.000000    54.550000\n",
       "50%    232.000000  226.500000   28.500000    33.000000    75.865000\n",
       "75%    347.500000  339.250000   63.000000    70.000000    97.587500\n",
       "max    463.000000  452.000000  200.000000   153.000000   196.550000"
      ]
     },
     "execution_count": 12,
     "metadata": {},
     "output_type": "execute_result"
    }
   ],
   "source": [
    "sachin_cricket_analysis.describe()"
   ]
  },
  {
   "cell_type": "code",
   "execution_count": 13,
   "metadata": {},
   "outputs": [
    {
     "data": {
      "text/html": [
       "<div>\n",
       "<style scoped>\n",
       "    .dataframe tbody tr th:only-of-type {\n",
       "        vertical-align: middle;\n",
       "    }\n",
       "\n",
       "    .dataframe tbody tr th {\n",
       "        vertical-align: top;\n",
       "    }\n",
       "\n",
       "    .dataframe thead th {\n",
       "        text-align: right;\n",
       "    }\n",
       "</style>\n",
       "<table border=\"1\" class=\"dataframe\">\n",
       "  <thead>\n",
       "    <tr style=\"text-align: right;\">\n",
       "      <th></th>\n",
       "      <th>Match</th>\n",
       "      <th>Innings</th>\n",
       "      <th>match_date</th>\n",
       "      <th>Versus</th>\n",
       "      <th>Ground</th>\n",
       "      <th>How Dismissed</th>\n",
       "      <th>Runs</th>\n",
       "      <th>Balls_faced</th>\n",
       "      <th>strike_rate</th>\n",
       "    </tr>\n",
       "  </thead>\n",
       "  <tbody>\n",
       "  </tbody>\n",
       "</table>\n",
       "</div>"
      ],
      "text/plain": [
       "Empty DataFrame\n",
       "Columns: [Match, Innings, match_date, Versus, Ground, How Dismissed, Runs, Balls_faced, strike_rate]\n",
       "Index: []"
      ]
     },
     "execution_count": 13,
     "metadata": {},
     "output_type": "execute_result"
    }
   ],
   "source": [
    "sachin_cricket_analysis[sachin_cricket_analysis.duplicated()]"
   ]
  },
  {
   "cell_type": "code",
   "execution_count": 14,
   "metadata": {},
   "outputs": [
    {
     "data": {
      "text/plain": [
       "Match             0\n",
       "Innings          11\n",
       "match_date        0\n",
       "Versus            0\n",
       "Ground            0\n",
       "How Dismissed     0\n",
       "Runs             11\n",
       "Balls_faced      11\n",
       "strike_rate      11\n",
       "dtype: int64"
      ]
     },
     "execution_count": 14,
     "metadata": {},
     "output_type": "execute_result"
    }
   ],
   "source": [
    "sachin_cricket_analysis.isnull().sum()"
   ]
  },
  {
   "cell_type": "code",
   "execution_count": 15,
   "metadata": {},
   "outputs": [],
   "source": [
    "sachin_cricket_analysis_copy = sachin_cricket_analysis"
   ]
  },
  {
   "cell_type": "code",
   "execution_count": 16,
   "metadata": {},
   "outputs": [],
   "source": [
    "import matplotlib.pyplot as plt\n",
    "import seaborn as sns"
   ]
  },
  {
   "cell_type": "code",
   "execution_count": 17,
   "metadata": {},
   "outputs": [
    {
     "data": {
      "text/html": [
       "<div>\n",
       "<style scoped>\n",
       "    .dataframe tbody tr th:only-of-type {\n",
       "        vertical-align: middle;\n",
       "    }\n",
       "\n",
       "    .dataframe tbody tr th {\n",
       "        vertical-align: top;\n",
       "    }\n",
       "\n",
       "    .dataframe thead th {\n",
       "        text-align: right;\n",
       "    }\n",
       "</style>\n",
       "<table border=\"1\" class=\"dataframe\">\n",
       "  <thead>\n",
       "    <tr style=\"text-align: right;\">\n",
       "      <th></th>\n",
       "      <th>Match</th>\n",
       "      <th>Innings</th>\n",
       "      <th>match_date</th>\n",
       "      <th>Versus</th>\n",
       "      <th>Ground</th>\n",
       "      <th>How Dismissed</th>\n",
       "      <th>Runs</th>\n",
       "      <th>Balls_faced</th>\n",
       "      <th>strike_rate</th>\n",
       "    </tr>\n",
       "  </thead>\n",
       "  <tbody>\n",
       "    <tr>\n",
       "      <th>0</th>\n",
       "      <td>1</td>\n",
       "      <td>1.0</td>\n",
       "      <td>1989-12-18</td>\n",
       "      <td>Pakistan</td>\n",
       "      <td>Jinnah Stadium (Gujwranwala)</td>\n",
       "      <td>c Wasim Akram b Waqar Younis</td>\n",
       "      <td>0.0</td>\n",
       "      <td>2.0</td>\n",
       "      <td>0.00</td>\n",
       "    </tr>\n",
       "    <tr>\n",
       "      <th>1</th>\n",
       "      <td>2</td>\n",
       "      <td>2.0</td>\n",
       "      <td>1990-03-01</td>\n",
       "      <td>New Zealand</td>\n",
       "      <td>Carisbrook</td>\n",
       "      <td>c &amp; b S A Thomson</td>\n",
       "      <td>0.0</td>\n",
       "      <td>2.0</td>\n",
       "      <td>0.00</td>\n",
       "    </tr>\n",
       "    <tr>\n",
       "      <th>2</th>\n",
       "      <td>3</td>\n",
       "      <td>3.0</td>\n",
       "      <td>1990-03-06</td>\n",
       "      <td>New Zealand</td>\n",
       "      <td>Basin Reserve</td>\n",
       "      <td>c †I D S Smith b S A Thomson</td>\n",
       "      <td>36.0</td>\n",
       "      <td>39.0</td>\n",
       "      <td>92.31</td>\n",
       "    </tr>\n",
       "    <tr>\n",
       "      <th>3</th>\n",
       "      <td>4</td>\n",
       "      <td>4.0</td>\n",
       "      <td>1990-04-25</td>\n",
       "      <td>Sri Lanka</td>\n",
       "      <td>Sharjah Cricket Stadium</td>\n",
       "      <td>run out</td>\n",
       "      <td>10.0</td>\n",
       "      <td>12.0</td>\n",
       "      <td>83.33</td>\n",
       "    </tr>\n",
       "    <tr>\n",
       "      <th>4</th>\n",
       "      <td>5</td>\n",
       "      <td>5.0</td>\n",
       "      <td>1990-04-27</td>\n",
       "      <td>Pakistan</td>\n",
       "      <td>Sharjah Cricket Stadium</td>\n",
       "      <td>c Saeed Anwar b Imran Khan</td>\n",
       "      <td>20.0</td>\n",
       "      <td>25.0</td>\n",
       "      <td>80.00</td>\n",
       "    </tr>\n",
       "  </tbody>\n",
       "</table>\n",
       "</div>"
      ],
      "text/plain": [
       "   Match  Innings match_date       Versus                        Ground  \\\n",
       "0      1      1.0 1989-12-18     Pakistan  Jinnah Stadium (Gujwranwala)   \n",
       "1      2      2.0 1990-03-01  New Zealand                    Carisbrook   \n",
       "2      3      3.0 1990-03-06  New Zealand                 Basin Reserve   \n",
       "3      4      4.0 1990-04-25    Sri Lanka       Sharjah Cricket Stadium   \n",
       "4      5      5.0 1990-04-27     Pakistan       Sharjah Cricket Stadium   \n",
       "\n",
       "                  How Dismissed  Runs  Balls_faced  strike_rate  \n",
       "0  c Wasim Akram b Waqar Younis   0.0          2.0         0.00  \n",
       "1             c & b S A Thomson   0.0          2.0         0.00  \n",
       "2  c †I D S Smith b S A Thomson  36.0         39.0        92.31  \n",
       "3                       run out  10.0         12.0        83.33  \n",
       "4    c Saeed Anwar b Imran Khan  20.0         25.0        80.00  "
      ]
     },
     "execution_count": 17,
     "metadata": {},
     "output_type": "execute_result"
    }
   ],
   "source": [
    "sachin_cricket_analysis_copy.head()"
   ]
  },
  {
   "cell_type": "code",
   "execution_count": 18,
   "metadata": {},
   "outputs": [],
   "source": [
    "sachin_cricket_analysis_copy['year'] = sachin_cricket_analysis_copy['match_date'].dt.year"
   ]
  },
  {
   "cell_type": "code",
   "execution_count": 19,
   "metadata": {},
   "outputs": [],
   "source": [
    "sachin_cricket_analysis_copy['Innings'].fillna(0.0, inplace=True)"
   ]
  },
  {
   "cell_type": "code",
   "execution_count": 20,
   "metadata": {},
   "outputs": [
    {
     "data": {
      "text/plain": [
       "Match             0\n",
       "Innings           0\n",
       "match_date        0\n",
       "Versus            0\n",
       "Ground            0\n",
       "How Dismissed     0\n",
       "Runs             11\n",
       "Balls_faced      11\n",
       "strike_rate      11\n",
       "year              0\n",
       "dtype: int64"
      ]
     },
     "execution_count": 20,
     "metadata": {},
     "output_type": "execute_result"
    }
   ],
   "source": [
    "sachin_cricket_analysis_copy.isnull().sum()"
   ]
  },
  {
   "cell_type": "code",
   "execution_count": 21,
   "metadata": {},
   "outputs": [],
   "source": [
    "sachin_cricket_analysis_copy.fillna(0.0, inplace=True)"
   ]
  },
  {
   "cell_type": "code",
   "execution_count": 22,
   "metadata": {},
   "outputs": [
    {
     "data": {
      "text/html": [
       "<div>\n",
       "<style scoped>\n",
       "    .dataframe tbody tr th:only-of-type {\n",
       "        vertical-align: middle;\n",
       "    }\n",
       "\n",
       "    .dataframe tbody tr th {\n",
       "        vertical-align: top;\n",
       "    }\n",
       "\n",
       "    .dataframe thead th {\n",
       "        text-align: right;\n",
       "    }\n",
       "</style>\n",
       "<table border=\"1\" class=\"dataframe\">\n",
       "  <thead>\n",
       "    <tr style=\"text-align: right;\">\n",
       "      <th></th>\n",
       "      <th>Match</th>\n",
       "      <th>Innings</th>\n",
       "      <th>match_date</th>\n",
       "      <th>Versus</th>\n",
       "      <th>Ground</th>\n",
       "      <th>How Dismissed</th>\n",
       "      <th>Runs</th>\n",
       "      <th>Balls_faced</th>\n",
       "      <th>strike_rate</th>\n",
       "      <th>year</th>\n",
       "    </tr>\n",
       "  </thead>\n",
       "  <tbody>\n",
       "    <tr>\n",
       "      <th>0</th>\n",
       "      <td>1</td>\n",
       "      <td>1.0</td>\n",
       "      <td>1989-12-18</td>\n",
       "      <td>Pakistan</td>\n",
       "      <td>Jinnah Stadium (Gujwranwala)</td>\n",
       "      <td>c Wasim Akram b Waqar Younis</td>\n",
       "      <td>0.0</td>\n",
       "      <td>2.0</td>\n",
       "      <td>0.00</td>\n",
       "      <td>1989</td>\n",
       "    </tr>\n",
       "    <tr>\n",
       "      <th>1</th>\n",
       "      <td>2</td>\n",
       "      <td>2.0</td>\n",
       "      <td>1990-03-01</td>\n",
       "      <td>New Zealand</td>\n",
       "      <td>Carisbrook</td>\n",
       "      <td>c &amp; b S A Thomson</td>\n",
       "      <td>0.0</td>\n",
       "      <td>2.0</td>\n",
       "      <td>0.00</td>\n",
       "      <td>1990</td>\n",
       "    </tr>\n",
       "    <tr>\n",
       "      <th>2</th>\n",
       "      <td>3</td>\n",
       "      <td>3.0</td>\n",
       "      <td>1990-03-06</td>\n",
       "      <td>New Zealand</td>\n",
       "      <td>Basin Reserve</td>\n",
       "      <td>c †I D S Smith b S A Thomson</td>\n",
       "      <td>36.0</td>\n",
       "      <td>39.0</td>\n",
       "      <td>92.31</td>\n",
       "      <td>1990</td>\n",
       "    </tr>\n",
       "    <tr>\n",
       "      <th>3</th>\n",
       "      <td>4</td>\n",
       "      <td>4.0</td>\n",
       "      <td>1990-04-25</td>\n",
       "      <td>Sri Lanka</td>\n",
       "      <td>Sharjah Cricket Stadium</td>\n",
       "      <td>run out</td>\n",
       "      <td>10.0</td>\n",
       "      <td>12.0</td>\n",
       "      <td>83.33</td>\n",
       "      <td>1990</td>\n",
       "    </tr>\n",
       "    <tr>\n",
       "      <th>4</th>\n",
       "      <td>5</td>\n",
       "      <td>5.0</td>\n",
       "      <td>1990-04-27</td>\n",
       "      <td>Pakistan</td>\n",
       "      <td>Sharjah Cricket Stadium</td>\n",
       "      <td>c Saeed Anwar b Imran Khan</td>\n",
       "      <td>20.0</td>\n",
       "      <td>25.0</td>\n",
       "      <td>80.00</td>\n",
       "      <td>1990</td>\n",
       "    </tr>\n",
       "  </tbody>\n",
       "</table>\n",
       "</div>"
      ],
      "text/plain": [
       "   Match  Innings match_date       Versus                        Ground  \\\n",
       "0      1      1.0 1989-12-18     Pakistan  Jinnah Stadium (Gujwranwala)   \n",
       "1      2      2.0 1990-03-01  New Zealand                    Carisbrook   \n",
       "2      3      3.0 1990-03-06  New Zealand                 Basin Reserve   \n",
       "3      4      4.0 1990-04-25    Sri Lanka       Sharjah Cricket Stadium   \n",
       "4      5      5.0 1990-04-27     Pakistan       Sharjah Cricket Stadium   \n",
       "\n",
       "                  How Dismissed  Runs  Balls_faced  strike_rate  year  \n",
       "0  c Wasim Akram b Waqar Younis   0.0          2.0         0.00  1989  \n",
       "1             c & b S A Thomson   0.0          2.0         0.00  1990  \n",
       "2  c †I D S Smith b S A Thomson  36.0         39.0        92.31  1990  \n",
       "3                       run out  10.0         12.0        83.33  1990  \n",
       "4    c Saeed Anwar b Imran Khan  20.0         25.0        80.00  1990  "
      ]
     },
     "execution_count": 22,
     "metadata": {},
     "output_type": "execute_result"
    }
   ],
   "source": [
    "sachin_cricket_analysis_copy.head()"
   ]
  },
  {
   "cell_type": "code",
   "execution_count": 23,
   "metadata": {},
   "outputs": [
    {
     "data": {
      "text/plain": [
       "0.0      11\n",
       "1.0       1\n",
       "298.0     1\n",
       "310.0     1\n",
       "309.0     1\n",
       "         ..\n",
       "147.0     1\n",
       "146.0     1\n",
       "145.0     1\n",
       "144.0     1\n",
       "452.0     1\n",
       "Name: Innings, Length: 453, dtype: int64"
      ]
     },
     "execution_count": 23,
     "metadata": {},
     "output_type": "execute_result"
    }
   ],
   "source": [
    "sachin_cricket_analysis_copy['Innings'].value_counts()"
   ]
  },
  {
   "cell_type": "code",
   "execution_count": 25,
   "metadata": {},
   "outputs": [],
   "source": [
    "x_year = sachin_cricket_analysis_copy.groupby('year')['Innings'].sum().index\n",
    "y_innings = sachin_cricket_analysis_copy.groupby('year')['Innings'].sum().values"
   ]
  },
  {
   "cell_type": "code",
   "execution_count": 26,
   "metadata": {},
   "outputs": [
    {
     "data": {
      "text/plain": [
       "0        1.0\n",
       "1        2.0\n",
       "2        3.0\n",
       "3        4.0\n",
       "4        5.0\n",
       "       ...  \n",
       "458    448.0\n",
       "459    449.0\n",
       "460    450.0\n",
       "461    451.0\n",
       "462    452.0\n",
       "Name: Innings, Length: 463, dtype: float64"
      ]
     },
     "execution_count": 26,
     "metadata": {},
     "output_type": "execute_result"
    }
   ],
   "source": [
    "sachin_cricket_analysis_copy['Innings']"
   ]
  },
  {
   "cell_type": "code",
   "execution_count": 27,
   "metadata": {},
   "outputs": [
    {
     "data": {
      "image/png": "[encoded data removed]",
      "text/plain": [
       "<Figure size 1500x1000 with 1 Axes>"
      ]
     },
     "metadata": {},
     "output_type": "display_data"
    }
   ],
   "source": [
    "plt.figure(figsize=(15,10))\n",
    "plt.bar(x = x_year, height = y_innings)\n",
    "plt.xticks(rotation = 90)\n",
    "plt.xlabel('Years')\n",
    "plt.ylabel('Innings')\n",
    "\"\"\"\n",
    "for i in range(len(x_year)):\n",
    "    plt.text(i, y_innings[i], y_innings[i], ha = 'center', va = 'bottom')\"\"\"\n",
    "plt.show()"
   ]
  },
  {
   "cell_type": "code",
   "execution_count": 28,
   "metadata": {},
   "outputs": [
    {
     "data": {
      "text/html": [
       "<div>\n",
       "<style scoped>\n",
       "    .dataframe tbody tr th:only-of-type {\n",
       "        vertical-align: middle;\n",
       "    }\n",
       "\n",
       "    .dataframe tbody tr th {\n",
       "        vertical-align: top;\n",
       "    }\n",
       "\n",
       "    .dataframe thead th {\n",
       "        text-align: right;\n",
       "    }\n",
       "</style>\n",
       "<table border=\"1\" class=\"dataframe\">\n",
       "  <thead>\n",
       "    <tr style=\"text-align: right;\">\n",
       "      <th></th>\n",
       "      <th>Match</th>\n",
       "      <th>Innings</th>\n",
       "      <th>match_date</th>\n",
       "      <th>Versus</th>\n",
       "      <th>Ground</th>\n",
       "      <th>How Dismissed</th>\n",
       "      <th>Runs</th>\n",
       "      <th>Balls_faced</th>\n",
       "      <th>strike_rate</th>\n",
       "      <th>year</th>\n",
       "    </tr>\n",
       "  </thead>\n",
       "  <tbody>\n",
       "    <tr>\n",
       "      <th>0</th>\n",
       "      <td>1</td>\n",
       "      <td>1.0</td>\n",
       "      <td>1989-12-18</td>\n",
       "      <td>Pakistan</td>\n",
       "      <td>Jinnah Stadium (Gujwranwala)</td>\n",
       "      <td>c Wasim Akram b Waqar Younis</td>\n",
       "      <td>0.0</td>\n",
       "      <td>2.0</td>\n",
       "      <td>0.00</td>\n",
       "      <td>1989</td>\n",
       "    </tr>\n",
       "    <tr>\n",
       "      <th>1</th>\n",
       "      <td>2</td>\n",
       "      <td>2.0</td>\n",
       "      <td>1990-03-01</td>\n",
       "      <td>New Zealand</td>\n",
       "      <td>Carisbrook</td>\n",
       "      <td>c &amp; b S A Thomson</td>\n",
       "      <td>0.0</td>\n",
       "      <td>2.0</td>\n",
       "      <td>0.00</td>\n",
       "      <td>1990</td>\n",
       "    </tr>\n",
       "    <tr>\n",
       "      <th>2</th>\n",
       "      <td>3</td>\n",
       "      <td>3.0</td>\n",
       "      <td>1990-03-06</td>\n",
       "      <td>New Zealand</td>\n",
       "      <td>Basin Reserve</td>\n",
       "      <td>c †I D S Smith b S A Thomson</td>\n",
       "      <td>36.0</td>\n",
       "      <td>39.0</td>\n",
       "      <td>92.31</td>\n",
       "      <td>1990</td>\n",
       "    </tr>\n",
       "    <tr>\n",
       "      <th>3</th>\n",
       "      <td>4</td>\n",
       "      <td>4.0</td>\n",
       "      <td>1990-04-25</td>\n",
       "      <td>Sri Lanka</td>\n",
       "      <td>Sharjah Cricket Stadium</td>\n",
       "      <td>run out</td>\n",
       "      <td>10.0</td>\n",
       "      <td>12.0</td>\n",
       "      <td>83.33</td>\n",
       "      <td>1990</td>\n",
       "    </tr>\n",
       "    <tr>\n",
       "      <th>4</th>\n",
       "      <td>5</td>\n",
       "      <td>5.0</td>\n",
       "      <td>1990-04-27</td>\n",
       "      <td>Pakistan</td>\n",
       "      <td>Sharjah Cricket Stadium</td>\n",
       "      <td>c Saeed Anwar b Imran Khan</td>\n",
       "      <td>20.0</td>\n",
       "      <td>25.0</td>\n",
       "      <td>80.00</td>\n",
       "      <td>1990</td>\n",
       "    </tr>\n",
       "  </tbody>\n",
       "</table>\n",
       "</div>"
      ],
      "text/plain": [
       "   Match  Innings match_date       Versus                        Ground  \\\n",
       "0      1      1.0 1989-12-18     Pakistan  Jinnah Stadium (Gujwranwala)   \n",
       "1      2      2.0 1990-03-01  New Zealand                    Carisbrook   \n",
       "2      3      3.0 1990-03-06  New Zealand                 Basin Reserve   \n",
       "3      4      4.0 1990-04-25    Sri Lanka       Sharjah Cricket Stadium   \n",
       "4      5      5.0 1990-04-27     Pakistan       Sharjah Cricket Stadium   \n",
       "\n",
       "                  How Dismissed  Runs  Balls_faced  strike_rate  year  \n",
       "0  c Wasim Akram b Waqar Younis   0.0          2.0         0.00  1989  \n",
       "1             c & b S A Thomson   0.0          2.0         0.00  1990  \n",
       "2  c †I D S Smith b S A Thomson  36.0         39.0        92.31  1990  \n",
       "3                       run out  10.0         12.0        83.33  1990  \n",
       "4    c Saeed Anwar b Imran Khan  20.0         25.0        80.00  1990  "
      ]
     },
     "execution_count": 28,
     "metadata": {},
     "output_type": "execute_result"
    }
   ],
   "source": [
    "sachin_cricket_analysis_copy.head()"
   ]
  },
  {
   "cell_type": "code",
   "execution_count": 29,
   "metadata": {},
   "outputs": [],
   "source": [
    "duck = sachin_cricket_analysis_copy[(sachin_cricket_analysis_copy['Runs']==0) & (sachin_cricket_analysis_copy['Innings']!=0)]"
   ]
  },
  {
   "cell_type": "code",
   "execution_count": 30,
   "metadata": {},
   "outputs": [],
   "source": [
    "yr = duck.groupby('year')['Runs'].count().index\n",
    "runs = runs = duck.groupby('year')['Runs'].count().values"
   ]
  },
  {
   "cell_type": "code",
   "execution_count": 38,
   "metadata": {},
   "outputs": [
    {
     "data": {
      "image/png": "[encoded data removed]",
      "text/plain": [
       "<Figure size 900x900 with 1 Axes>"
      ]
     },
     "metadata": {},
     "output_type": "display_data"
    }
   ],
   "source": [
    "plt.figure(figsize=(9,9))\n",
    "plt.bar(x = yr, height = runs)\n",
    "plt.xticks(yr, rotation=90)\n",
    "#for i in range(len(yr)):\n",
    "    #plt.text(i, runs[i], runs[i], ha = 'center', va = 'bottom')\n",
    "plt.show()"
   ]
  },
  {
   "cell_type": "code",
   "execution_count": 56,
   "metadata": {},
   "outputs": [],
   "source": [
    "century = sachin_cricket_analysis_copy[(sachin_cricket_analysis_copy['Runs'] >= 50) & (sachin_cricket_analysis_copy['Runs'] >= 100)]"
   ]
  },
  {
   "cell_type": "code",
   "execution_count": 60,
   "metadata": {},
   "outputs": [
    {
     "name": "stdout",
     "output_type": "stream",
     "text": [
      "96\n"
     ]
    }
   ],
   "source": [
    "print(len(less_century))"
   ]
  },
  {
   "cell_type": "code",
   "execution_count": 58,
   "metadata": {},
   "outputs": [],
   "source": [
    "less_century = sachin_cricket_analysis_copy[(sachin_cricket_analysis_copy['Runs'] >= 50) & (sachin_cricket_analysis_copy['Runs'] < 100)]"
   ]
  },
  {
   "cell_type": "code",
   "execution_count": 59,
   "metadata": {},
   "outputs": [
    {
     "data": {
      "image/png": "[encoded data removed]",
      "text/plain": [
       "<Figure size 640x480 with 1 Axes>"
      ]
     },
     "metadata": {},
     "output_type": "display_data"
    }
   ],
   "source": [
    "# Conversion rate from 50 to 100\n",
    "plt.pie((len(century), len(less_century)), labels=['Century', 'Not a Century'], autopct='%1.2f%%')\n",
    "plt.show()"
   ]
  },
  {
   "cell_type": "code",
   "execution_count": 61,
   "metadata": {},
   "outputs": [
    {
     "data": {
      "text/html": [
       "<div>\n",
       "<style scoped>\n",
       "    .dataframe tbody tr th:only-of-type {\n",
       "        vertical-align: middle;\n",
       "    }\n",
       "\n",
       "    .dataframe tbody tr th {\n",
       "        vertical-align: top;\n",
       "    }\n",
       "\n",
       "    .dataframe thead th {\n",
       "        text-align: right;\n",
       "    }\n",
       "</style>\n",
       "<table border=\"1\" class=\"dataframe\">\n",
       "  <thead>\n",
       "    <tr style=\"text-align: right;\">\n",
       "      <th></th>\n",
       "      <th>Match</th>\n",
       "      <th>Innings</th>\n",
       "      <th>match_date</th>\n",
       "      <th>Versus</th>\n",
       "      <th>Ground</th>\n",
       "      <th>How Dismissed</th>\n",
       "      <th>Runs</th>\n",
       "      <th>Balls_faced</th>\n",
       "      <th>strike_rate</th>\n",
       "      <th>year</th>\n",
       "    </tr>\n",
       "  </thead>\n",
       "  <tbody>\n",
       "    <tr>\n",
       "      <th>0</th>\n",
       "      <td>1</td>\n",
       "      <td>1.0</td>\n",
       "      <td>1989-12-18</td>\n",
       "      <td>Pakistan</td>\n",
       "      <td>Jinnah Stadium (Gujwranwala)</td>\n",
       "      <td>c Wasim Akram b Waqar Younis</td>\n",
       "      <td>0.0</td>\n",
       "      <td>2.0</td>\n",
       "      <td>0.00</td>\n",
       "      <td>1989</td>\n",
       "    </tr>\n",
       "    <tr>\n",
       "      <th>1</th>\n",
       "      <td>2</td>\n",
       "      <td>2.0</td>\n",
       "      <td>1990-03-01</td>\n",
       "      <td>New Zealand</td>\n",
       "      <td>Carisbrook</td>\n",
       "      <td>c &amp; b S A Thomson</td>\n",
       "      <td>0.0</td>\n",
       "      <td>2.0</td>\n",
       "      <td>0.00</td>\n",
       "      <td>1990</td>\n",
       "    </tr>\n",
       "    <tr>\n",
       "      <th>2</th>\n",
       "      <td>3</td>\n",
       "      <td>3.0</td>\n",
       "      <td>1990-03-06</td>\n",
       "      <td>New Zealand</td>\n",
       "      <td>Basin Reserve</td>\n",
       "      <td>c †I D S Smith b S A Thomson</td>\n",
       "      <td>36.0</td>\n",
       "      <td>39.0</td>\n",
       "      <td>92.31</td>\n",
       "      <td>1990</td>\n",
       "    </tr>\n",
       "    <tr>\n",
       "      <th>3</th>\n",
       "      <td>4</td>\n",
       "      <td>4.0</td>\n",
       "      <td>1990-04-25</td>\n",
       "      <td>Sri Lanka</td>\n",
       "      <td>Sharjah Cricket Stadium</td>\n",
       "      <td>run out</td>\n",
       "      <td>10.0</td>\n",
       "      <td>12.0</td>\n",
       "      <td>83.33</td>\n",
       "      <td>1990</td>\n",
       "    </tr>\n",
       "    <tr>\n",
       "      <th>4</th>\n",
       "      <td>5</td>\n",
       "      <td>5.0</td>\n",
       "      <td>1990-04-27</td>\n",
       "      <td>Pakistan</td>\n",
       "      <td>Sharjah Cricket Stadium</td>\n",
       "      <td>c Saeed Anwar b Imran Khan</td>\n",
       "      <td>20.0</td>\n",
       "      <td>25.0</td>\n",
       "      <td>80.00</td>\n",
       "      <td>1990</td>\n",
       "    </tr>\n",
       "  </tbody>\n",
       "</table>\n",
       "</div>"
      ],
      "text/plain": [
       "   Match  Innings match_date       Versus                        Ground  \\\n",
       "0      1      1.0 1989-12-18     Pakistan  Jinnah Stadium (Gujwranwala)   \n",
       "1      2      2.0 1990-03-01  New Zealand                    Carisbrook   \n",
       "2      3      3.0 1990-03-06  New Zealand                 Basin Reserve   \n",
       "3      4      4.0 1990-04-25    Sri Lanka       Sharjah Cricket Stadium   \n",
       "4      5      5.0 1990-04-27     Pakistan       Sharjah Cricket Stadium   \n",
       "\n",
       "                  How Dismissed  Runs  Balls_faced  strike_rate  year  \n",
       "0  c Wasim Akram b Waqar Younis   0.0          2.0         0.00  1989  \n",
       "1             c & b S A Thomson   0.0          2.0         0.00  1990  \n",
       "2  c †I D S Smith b S A Thomson  36.0         39.0        92.31  1990  \n",
       "3                       run out  10.0         12.0        83.33  1990  \n",
       "4    c Saeed Anwar b Imran Khan  20.0         25.0        80.00  1990  "
      ]
     },
     "execution_count": 61,
     "metadata": {},
     "output_type": "execute_result"
    }
   ],
   "source": [
    "sachin_cricket_analysis_copy.head()"
   ]
  },
  {
   "cell_type": "code",
   "execution_count": 63,
   "metadata": {},
   "outputs": [
    {
     "data": {
      "text/html": [
       "<div>\n",
       "<style scoped>\n",
       "    .dataframe tbody tr th:only-of-type {\n",
       "        vertical-align: middle;\n",
       "    }\n",
       "\n",
       "    .dataframe tbody tr th {\n",
       "        vertical-align: top;\n",
       "    }\n",
       "\n",
       "    .dataframe thead th {\n",
       "        text-align: right;\n",
       "    }\n",
       "</style>\n",
       "<table border=\"1\" class=\"dataframe\">\n",
       "  <thead>\n",
       "    <tr style=\"text-align: right;\">\n",
       "      <th></th>\n",
       "      <th>Match</th>\n",
       "      <th>Innings</th>\n",
       "      <th>match_date</th>\n",
       "      <th>Versus</th>\n",
       "      <th>Ground</th>\n",
       "      <th>How Dismissed</th>\n",
       "      <th>Runs</th>\n",
       "      <th>Balls_faced</th>\n",
       "      <th>strike_rate</th>\n",
       "      <th>year</th>\n",
       "    </tr>\n",
       "  </thead>\n",
       "  <tbody>\n",
       "    <tr>\n",
       "      <th>78</th>\n",
       "      <td>79</td>\n",
       "      <td>76.0</td>\n",
       "      <td>1994-09-09</td>\n",
       "      <td>Australia</td>\n",
       "      <td>R Premadasa Stadium</td>\n",
       "      <td>b C J McDermott</td>\n",
       "      <td>110.0</td>\n",
       "      <td>130.0</td>\n",
       "      <td>84.62</td>\n",
       "      <td>1994</td>\n",
       "    </tr>\n",
       "    <tr>\n",
       "      <th>83</th>\n",
       "      <td>84</td>\n",
       "      <td>81.0</td>\n",
       "      <td>1994-10-28</td>\n",
       "      <td>New Zealand</td>\n",
       "      <td>Reliance Stadium</td>\n",
       "      <td>run out</td>\n",
       "      <td>115.0</td>\n",
       "      <td>136.0</td>\n",
       "      <td>84.56</td>\n",
       "      <td>1994</td>\n",
       "    </tr>\n",
       "    <tr>\n",
       "      <th>89</th>\n",
       "      <td>90</td>\n",
       "      <td>87.0</td>\n",
       "      <td>1994-11-11</td>\n",
       "      <td>West Indies</td>\n",
       "      <td>Sawai Mansingh Stadium</td>\n",
       "      <td>c †J C Adams b B S Browne</td>\n",
       "      <td>105.0</td>\n",
       "      <td>134.0</td>\n",
       "      <td>78.36</td>\n",
       "      <td>1994</td>\n",
       "    </tr>\n",
       "    <tr>\n",
       "      <th>95</th>\n",
       "      <td>96</td>\n",
       "      <td>93.0</td>\n",
       "      <td>1995-04-09</td>\n",
       "      <td>Sri Lanka</td>\n",
       "      <td>Sharjah Cricket Stadium</td>\n",
       "      <td>not out</td>\n",
       "      <td>112.0</td>\n",
       "      <td>107.0</td>\n",
       "      <td>104.67</td>\n",
       "      <td>1995</td>\n",
       "    </tr>\n",
       "    <tr>\n",
       "      <th>102</th>\n",
       "      <td>103</td>\n",
       "      <td>100.0</td>\n",
       "      <td>1996-02-18</td>\n",
       "      <td>Kenya</td>\n",
       "      <td>Barabati Stadium</td>\n",
       "      <td>not out</td>\n",
       "      <td>127.0</td>\n",
       "      <td>138.0</td>\n",
       "      <td>92.03</td>\n",
       "      <td>1996</td>\n",
       "    </tr>\n",
       "  </tbody>\n",
       "</table>\n",
       "</div>"
      ],
      "text/plain": [
       "     Match  Innings match_date       Versus                   Ground  \\\n",
       "78      79     76.0 1994-09-09    Australia      R Premadasa Stadium   \n",
       "83      84     81.0 1994-10-28  New Zealand         Reliance Stadium   \n",
       "89      90     87.0 1994-11-11  West Indies   Sawai Mansingh Stadium   \n",
       "95      96     93.0 1995-04-09    Sri Lanka  Sharjah Cricket Stadium   \n",
       "102    103    100.0 1996-02-18        Kenya         Barabati Stadium   \n",
       "\n",
       "                 How Dismissed   Runs  Balls_faced  strike_rate  year  \n",
       "78             b C J McDermott  110.0        130.0        84.62  1994  \n",
       "83                     run out  115.0        136.0        84.56  1994  \n",
       "89   c †J C Adams b B S Browne  105.0        134.0        78.36  1994  \n",
       "95                     not out  112.0        107.0       104.67  1995  \n",
       "102                    not out  127.0        138.0        92.03  1996  "
      ]
     },
     "execution_count": 63,
     "metadata": {},
     "output_type": "execute_result"
    }
   ],
   "source": [
    "century.head()"
   ]
  },
  {
   "cell_type": "code",
   "execution_count": 66,
   "metadata": {},
   "outputs": [],
   "source": [
    "x_country = century.groupby('Versus')['Runs'].count().index\n",
    "y_century = century.groupby('Versus')['Runs'].count().values"
   ]
  },
  {
   "cell_type": "code",
   "execution_count": 87,
   "metadata": {},
   "outputs": [
    {
     "data": {
      "image/png": "[encoded data removed]",
      "text/plain": [
       "<Figure size 600x500 with 1 Axes>"
      ]
     },
     "metadata": {},
     "output_type": "display_data"
    }
   ],
   "source": [
    "# Number of centuries vs an oppostion\n",
    "plt.figure(figsize=(6,5))\n",
    "colors = [\"green\" if i > 4 else \"red\" for i in y_century]\n",
    "plt.bar(x = x_country, height = y_century, color = colors)\n",
    "plt.xticks(rotation = 45)\n",
    "plt.xlabel('Country', fontsize = 10, fontstyle = 'italic', fontweight = 'bold')\n",
    "plt.ylabel('Number of Centuries', fontsize = 10, fontstyle = 'oblique', fontweight = 'bold')\n",
    "plt.title('Number of Centuries Vs an opposition')\n",
    "for i in range(len(x_country)):\n",
    "    plt.text(i, y_century[i], y_century[i], ha = 'center', va = 'bottom')\n",
    "plt.show()"
   ]
  },
  {
   "cell_type": "code",
   "execution_count": 88,
   "metadata": {},
   "outputs": [
    {
     "data": {
      "text/html": [
       "<div>\n",
       "<style scoped>\n",
       "    .dataframe tbody tr th:only-of-type {\n",
       "        vertical-align: middle;\n",
       "    }\n",
       "\n",
       "    .dataframe tbody tr th {\n",
       "        vertical-align: top;\n",
       "    }\n",
       "\n",
       "    .dataframe thead th {\n",
       "        text-align: right;\n",
       "    }\n",
       "</style>\n",
       "<table border=\"1\" class=\"dataframe\">\n",
       "  <thead>\n",
       "    <tr style=\"text-align: right;\">\n",
       "      <th></th>\n",
       "      <th>Match</th>\n",
       "      <th>Innings</th>\n",
       "      <th>match_date</th>\n",
       "      <th>Versus</th>\n",
       "      <th>Ground</th>\n",
       "      <th>How Dismissed</th>\n",
       "      <th>Runs</th>\n",
       "      <th>Balls_faced</th>\n",
       "      <th>strike_rate</th>\n",
       "      <th>year</th>\n",
       "    </tr>\n",
       "  </thead>\n",
       "  <tbody>\n",
       "    <tr>\n",
       "      <th>0</th>\n",
       "      <td>1</td>\n",
       "      <td>1.0</td>\n",
       "      <td>1989-12-18</td>\n",
       "      <td>Pakistan</td>\n",
       "      <td>Jinnah Stadium (Gujwranwala)</td>\n",
       "      <td>c Wasim Akram b Waqar Younis</td>\n",
       "      <td>0.0</td>\n",
       "      <td>2.0</td>\n",
       "      <td>0.00</td>\n",
       "      <td>1989</td>\n",
       "    </tr>\n",
       "    <tr>\n",
       "      <th>1</th>\n",
       "      <td>2</td>\n",
       "      <td>2.0</td>\n",
       "      <td>1990-03-01</td>\n",
       "      <td>New Zealand</td>\n",
       "      <td>Carisbrook</td>\n",
       "      <td>c &amp; b S A Thomson</td>\n",
       "      <td>0.0</td>\n",
       "      <td>2.0</td>\n",
       "      <td>0.00</td>\n",
       "      <td>1990</td>\n",
       "    </tr>\n",
       "    <tr>\n",
       "      <th>2</th>\n",
       "      <td>3</td>\n",
       "      <td>3.0</td>\n",
       "      <td>1990-03-06</td>\n",
       "      <td>New Zealand</td>\n",
       "      <td>Basin Reserve</td>\n",
       "      <td>c †I D S Smith b S A Thomson</td>\n",
       "      <td>36.0</td>\n",
       "      <td>39.0</td>\n",
       "      <td>92.31</td>\n",
       "      <td>1990</td>\n",
       "    </tr>\n",
       "    <tr>\n",
       "      <th>3</th>\n",
       "      <td>4</td>\n",
       "      <td>4.0</td>\n",
       "      <td>1990-04-25</td>\n",
       "      <td>Sri Lanka</td>\n",
       "      <td>Sharjah Cricket Stadium</td>\n",
       "      <td>run out</td>\n",
       "      <td>10.0</td>\n",
       "      <td>12.0</td>\n",
       "      <td>83.33</td>\n",
       "      <td>1990</td>\n",
       "    </tr>\n",
       "    <tr>\n",
       "      <th>4</th>\n",
       "      <td>5</td>\n",
       "      <td>5.0</td>\n",
       "      <td>1990-04-27</td>\n",
       "      <td>Pakistan</td>\n",
       "      <td>Sharjah Cricket Stadium</td>\n",
       "      <td>c Saeed Anwar b Imran Khan</td>\n",
       "      <td>20.0</td>\n",
       "      <td>25.0</td>\n",
       "      <td>80.00</td>\n",
       "      <td>1990</td>\n",
       "    </tr>\n",
       "  </tbody>\n",
       "</table>\n",
       "</div>"
      ],
      "text/plain": [
       "   Match  Innings match_date       Versus                        Ground  \\\n",
       "0      1      1.0 1989-12-18     Pakistan  Jinnah Stadium (Gujwranwala)   \n",
       "1      2      2.0 1990-03-01  New Zealand                    Carisbrook   \n",
       "2      3      3.0 1990-03-06  New Zealand                 Basin Reserve   \n",
       "3      4      4.0 1990-04-25    Sri Lanka       Sharjah Cricket Stadium   \n",
       "4      5      5.0 1990-04-27     Pakistan       Sharjah Cricket Stadium   \n",
       "\n",
       "                  How Dismissed  Runs  Balls_faced  strike_rate  year  \n",
       "0  c Wasim Akram b Waqar Younis   0.0          2.0         0.00  1989  \n",
       "1             c & b S A Thomson   0.0          2.0         0.00  1990  \n",
       "2  c †I D S Smith b S A Thomson  36.0         39.0        92.31  1990  \n",
       "3                       run out  10.0         12.0        83.33  1990  \n",
       "4    c Saeed Anwar b Imran Khan  20.0         25.0        80.00  1990  "
      ]
     },
     "execution_count": 88,
     "metadata": {},
     "output_type": "execute_result"
    }
   ],
   "source": [
    "sachin_cricket_analysis_copy.head()"
   ]
  },
  {
   "cell_type": "code",
   "execution_count": 95,
   "metadata": {},
   "outputs": [
    {
     "data": {
      "text/html": [
       "<div>\n",
       "<style scoped>\n",
       "    .dataframe tbody tr th:only-of-type {\n",
       "        vertical-align: middle;\n",
       "    }\n",
       "\n",
       "    .dataframe tbody tr th {\n",
       "        vertical-align: top;\n",
       "    }\n",
       "\n",
       "    .dataframe thead th {\n",
       "        text-align: right;\n",
       "    }\n",
       "</style>\n",
       "<table border=\"1\" class=\"dataframe\">\n",
       "  <thead>\n",
       "    <tr style=\"text-align: right;\">\n",
       "      <th></th>\n",
       "      <th>Match</th>\n",
       "      <th>Innings</th>\n",
       "      <th>match_date</th>\n",
       "      <th>Versus</th>\n",
       "      <th>Ground</th>\n",
       "      <th>How Dismissed</th>\n",
       "      <th>Runs</th>\n",
       "      <th>Balls_faced</th>\n",
       "      <th>strike_rate</th>\n",
       "      <th>year</th>\n",
       "    </tr>\n",
       "  </thead>\n",
       "  <tbody>\n",
       "  </tbody>\n",
       "</table>\n",
       "</div>"
      ],
      "text/plain": [
       "Empty DataFrame\n",
       "Columns: [Match, Innings, match_date, Versus, Ground, How Dismissed, Runs, Balls_faced, strike_rate, year]\n",
       "Index: []"
      ]
     },
     "execution_count": 95,
     "metadata": {},
     "output_type": "execute_result"
    }
   ],
   "source": [
    "# Analyzing Golden Ducks\n",
    "sachin_cricket_analysis_copy[(sachin_cricket_analysis_copy['Runs'] == 0.0) & (sachin_cricket_analysis_copy['Balls_faced'] == 0.0) & (sachin_cricket_analysis_copy['Innings'] != 0.0)]"
   ]
  },
  {
   "cell_type": "code",
   "execution_count": 97,
   "metadata": {},
   "outputs": [
    {
     "data": {
      "image/png": "[encoded data removed]",
      "text/plain": [
       "<Figure size 1200x800 with 1 Axes>"
      ]
     },
     "metadata": {},
     "output_type": "display_data"
    }
   ],
   "source": [
    "# Analyzing strike rate over the years\n",
    "sachin_cricket_analysis_copy.groupby('year')['strike_rate'].mean()\n",
    "strike_rate_year = sachin_cricket_analysis_copy.groupby('year')['strike_rate'].mean().index\n",
    "strike_rate_mean = sachin_cricket_analysis_copy.groupby('year')['strike_rate'].mean().values\n",
    "plt.figure(figsize=(12,8))\n",
    "plt.bar(x=strike_rate_year, height=strike_rate_mean)\n",
    "#df['strike_rate_year'].plot(kind='line', marker='*', color='black', x=strike_rate_year, height=strike_rate_mean)\n",
    "plt.xticks(strike_rate_year, rotation=90)\n",
    "plt.xlabel('Year')\n",
    "plt.ylabel('Mean Strike Rate over the years')\n",
    "plt.title('Comparison of Strike Rate over the years')\n",
    "plt.show()"
   ]
  },
  {
   "cell_type": "code",
   "execution_count": 98,
   "metadata": {},
   "outputs": [
    {
     "data": {
      "text/plain": [
       "Sharjah Cricket Stadium                42\n",
       "R Premadasa Stadium                    27\n",
       "Eden Gardens                           13\n",
       "Sinhalese Sports Club Ground           12\n",
       "Cricket, Skating & Curling Club        12\n",
       "                                       ..\n",
       "Gandhi Stadium                          1\n",
       "Galle International Stadium             1\n",
       "Owen Delany Park                        1\n",
       "The Cooper Associates County Ground     1\n",
       "Jinnah Stadium (Gujwranwala)            1\n",
       "Name: Ground, Length: 96, dtype: int64"
      ]
     },
     "execution_count": 98,
     "metadata": {},
     "output_type": "execute_result"
    }
   ],
   "source": [
    "sachin_cricket_analysis_copy['Ground'].value_counts()"
   ]
  },
  {
   "cell_type": "code",
   "execution_count": 101,
   "metadata": {},
   "outputs": [
    {
     "data": {
      "text/plain": [
       "Ground\n",
       "Sharjah Cricket Stadium                         1778.0\n",
       "R Premadasa Stadium                             1096.0\n",
       "Bangabandhu National Stadium                     608.0\n",
       "M Chinnaswamy Stadium                            534.0\n",
       "Captain Roop Singh Stadium                       529.0\n",
       "Eden Gardens                                     496.0\n",
       "Barabati Stadium                                 469.0\n",
       "Wankhede Stadium                                 455.0\n",
       "Reliance Stadium                                 442.0\n",
       "Vidarbha Cricket Association Ground              390.0\n",
       "Punjab Cricket Association IS Bindra Stadium     366.0\n",
       "Sinhalese Sports Club Ground                     362.0\n",
       "County Ground (Bristol)                          352.0\n",
       "Brisbane Cricket Ground                          348.0\n",
       "Green Park                                       342.0\n",
       "Sawai Mansingh Stadium                           322.0\n",
       "Sydney Cricket Ground                            315.0\n",
       "Harare Sports Club                               314.0\n",
       "SuperSport Park                                  313.0\n",
       "Cricket, Skating & Curling Club                  313.0\n",
       "Name: Runs, dtype: float64"
      ]
     },
     "execution_count": 101,
     "metadata": {},
     "output_type": "execute_result"
    }
   ],
   "source": [
    "# Top 20 grounds where most runs made by sachin.\n",
    "sachin_cricket_analysis_copy.groupby('Ground')['Runs'].sum().sort_values(ascending=False)[:20]"
   ]
  },
  {
   "cell_type": "code",
   "execution_count": null,
   "metadata": {},
   "outputs": [],
   "source": []
  }
 ],
 "metadata": {
  "kernelspec": {
   "display_name": "Python 3",
   "language": "python",
   "name": "python3"
  },
  "language_info": {
   "codemirror_mode": {
    "name": "ipython",
    "version": 3
   },
   "file_extension": ".py",
   "mimetype": "text/x-python",
   "name": "python",
   "nbconvert_exporter": "python",
   "pygments_lexer": "ipython3",
   "version": "3.11.1"
  },
  "orig_nbformat": 4
 },
 "nbformat": 4,
 "nbformat_minor": 2
}
