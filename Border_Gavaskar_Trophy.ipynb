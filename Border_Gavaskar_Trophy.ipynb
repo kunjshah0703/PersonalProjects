{
 "cells": [
  {
   "cell_type": "code",
   "execution_count": 51,
   "metadata": {},
   "outputs": [
    {
     "data": {
      "text/plain": [
       "'C:\\\\Users\\\\Kunj Shah\\\\Downloads'"
      ]
     },
     "execution_count": 51,
     "metadata": {},
     "output_type": "execute_result"
    }
   ],
   "source": [
    "pwd"
   ]
  },
  {
   "cell_type": "code",
   "execution_count": 52,
   "metadata": {},
   "outputs": [],
   "source": [
    "import os\n",
    "os.chdir(r'C:\\Users\\Kunj Shah\\Downloads')"
   ]
  },
  {
   "cell_type": "code",
   "execution_count": 53,
   "metadata": {},
   "outputs": [
    {
     "data": {
      "text/plain": [
       "'C:\\\\Users\\\\Kunj Shah\\\\Downloads'"
      ]
     },
     "execution_count": 53,
     "metadata": {},
     "output_type": "execute_result"
    }
   ],
   "source": [
    "pwd"
   ]
  },
  {
   "cell_type": "code",
   "execution_count": 54,
   "metadata": {},
   "outputs": [],
   "source": [
    "import pandas as pd"
   ]
  },
  {
   "cell_type": "code",
   "execution_count": 55,
   "metadata": {},
   "outputs": [],
   "source": [
    "df = pd.read_csv(r'C:\\Users\\Kunj Shah\\Downloads\\BGTresults.csv')"
   ]
  },
  {
   "cell_type": "code",
   "execution_count": 56,
   "metadata": {},
   "outputs": [
    {
     "data": {
      "text/html": [
       "<div>\n",
       "<style scoped>\n",
       "    .dataframe tbody tr th:only-of-type {\n",
       "        vertical-align: middle;\n",
       "    }\n",
       "\n",
       "    .dataframe tbody tr th {\n",
       "        vertical-align: top;\n",
       "    }\n",
       "\n",
       "    .dataframe thead th {\n",
       "        text-align: right;\n",
       "    }\n",
       "</style>\n",
       "<table border=\"1\" class=\"dataframe\">\n",
       "  <thead>\n",
       "    <tr style=\"text-align: right;\">\n",
       "      <th></th>\n",
       "      <th>Test Series Year</th>\n",
       "      <th>Test Number</th>\n",
       "      <th>Innings</th>\n",
       "      <th>Venue</th>\n",
       "      <th>Host</th>\n",
       "      <th>Highest Scorer</th>\n",
       "      <th>Team</th>\n",
       "      <th>Runs by highest scorer</th>\n",
       "      <th>best bowler</th>\n",
       "      <th>wickets by best bowler</th>\n",
       "      <th>team total</th>\n",
       "      <th>Winner</th>\n",
       "      <th>Win Margin</th>\n",
       "      <th>MOTM</th>\n",
       "      <th>Ind captain</th>\n",
       "      <th>Aus captain</th>\n",
       "      <th>MOTS</th>\n",
       "      <th>Series Win</th>\n",
       "    </tr>\n",
       "  </thead>\n",
       "  <tbody>\n",
       "    <tr>\n",
       "      <th>0</th>\n",
       "      <td>1996-97</td>\n",
       "      <td>1</td>\n",
       "      <td>1</td>\n",
       "      <td>Delhi</td>\n",
       "      <td>India</td>\n",
       "      <td>Michael Slater</td>\n",
       "      <td>Australia</td>\n",
       "      <td>44</td>\n",
       "      <td>Anil Kumble</td>\n",
       "      <td>4.0</td>\n",
       "      <td>182/10</td>\n",
       "      <td>India</td>\n",
       "      <td>7w</td>\n",
       "      <td>Nayan Mongia</td>\n",
       "      <td>Sachin Tendulkar</td>\n",
       "      <td>Mark Taylor</td>\n",
       "      <td>Nayan Mongia</td>\n",
       "      <td>India</td>\n",
       "    </tr>\n",
       "    <tr>\n",
       "      <th>1</th>\n",
       "      <td>1996-97</td>\n",
       "      <td>1</td>\n",
       "      <td>2</td>\n",
       "      <td>Delhi</td>\n",
       "      <td>India</td>\n",
       "      <td>Nayan Mongia</td>\n",
       "      <td>India</td>\n",
       "      <td>152</td>\n",
       "      <td>Paul Reiffel</td>\n",
       "      <td>3.0</td>\n",
       "      <td>361/10</td>\n",
       "      <td>India</td>\n",
       "      <td>7w</td>\n",
       "      <td>Nayan Mongia</td>\n",
       "      <td>Sachin Tendulkar</td>\n",
       "      <td>Mark Taylor</td>\n",
       "      <td>Nayan Mongia</td>\n",
       "      <td>India</td>\n",
       "    </tr>\n",
       "    <tr>\n",
       "      <th>2</th>\n",
       "      <td>1996-97</td>\n",
       "      <td>1</td>\n",
       "      <td>3</td>\n",
       "      <td>Delhi</td>\n",
       "      <td>India</td>\n",
       "      <td>Steve Waugh</td>\n",
       "      <td>Australia</td>\n",
       "      <td>67</td>\n",
       "      <td>Anil Kumble</td>\n",
       "      <td>5.0</td>\n",
       "      <td>234/10</td>\n",
       "      <td>India</td>\n",
       "      <td>7w</td>\n",
       "      <td>Nayan Mongia</td>\n",
       "      <td>Sachin Tendulkar</td>\n",
       "      <td>Mark Taylor</td>\n",
       "      <td>Nayan Mongia</td>\n",
       "      <td>India</td>\n",
       "    </tr>\n",
       "    <tr>\n",
       "      <th>3</th>\n",
       "      <td>1996-97</td>\n",
       "      <td>1</td>\n",
       "      <td>4</td>\n",
       "      <td>Delhi</td>\n",
       "      <td>India</td>\n",
       "      <td>Mohd. Azharuddin</td>\n",
       "      <td>India</td>\n",
       "      <td>21</td>\n",
       "      <td>Paul Reiffel</td>\n",
       "      <td>2.0</td>\n",
       "      <td>56/3</td>\n",
       "      <td>India</td>\n",
       "      <td>7w</td>\n",
       "      <td>Nayan Mongia</td>\n",
       "      <td>Sachin Tendulkar</td>\n",
       "      <td>Mark Taylor</td>\n",
       "      <td>Nayan Mongia</td>\n",
       "      <td>India</td>\n",
       "    </tr>\n",
       "    <tr>\n",
       "      <th>4</th>\n",
       "      <td>1997-98</td>\n",
       "      <td>1</td>\n",
       "      <td>1</td>\n",
       "      <td>Chennai</td>\n",
       "      <td>India</td>\n",
       "      <td>Navjot Sidhu</td>\n",
       "      <td>India</td>\n",
       "      <td>62</td>\n",
       "      <td>Shane Warne</td>\n",
       "      <td>4.0</td>\n",
       "      <td>257/10</td>\n",
       "      <td>India</td>\n",
       "      <td>179r</td>\n",
       "      <td>Sachin Tendulkar</td>\n",
       "      <td>Mohd. Azharuddin</td>\n",
       "      <td>Mark Taylor</td>\n",
       "      <td>Sachin Tendulkar</td>\n",
       "      <td>India</td>\n",
       "    </tr>\n",
       "  </tbody>\n",
       "</table>\n",
       "</div>"
      ],
      "text/plain": [
       "  Test Series Year  Test Number  Innings    Venue   Host    Highest Scorer  \\\n",
       "0          1996-97            1        1    Delhi  India    Michael Slater   \n",
       "1          1996-97            1        2    Delhi  India      Nayan Mongia   \n",
       "2          1996-97            1        3    Delhi  India       Steve Waugh   \n",
       "3          1996-97            1        4    Delhi  India  Mohd. Azharuddin   \n",
       "4          1997-98            1        1  Chennai  India      Navjot Sidhu   \n",
       "\n",
       "        Team  Runs by highest scorer   best bowler  wickets by best bowler  \\\n",
       "0  Australia                      44   Anil Kumble                     4.0   \n",
       "1      India                     152  Paul Reiffel                     3.0   \n",
       "2  Australia                      67   Anil Kumble                     5.0   \n",
       "3      India                      21  Paul Reiffel                     2.0   \n",
       "4      India                      62   Shane Warne                     4.0   \n",
       "\n",
       "  team total Winner Win Margin              MOTM       Ind captain  \\\n",
       "0     182/10  India         7w      Nayan Mongia  Sachin Tendulkar   \n",
       "1     361/10  India         7w      Nayan Mongia  Sachin Tendulkar   \n",
       "2     234/10  India         7w      Nayan Mongia  Sachin Tendulkar   \n",
       "3       56/3  India         7w      Nayan Mongia  Sachin Tendulkar   \n",
       "4     257/10  India       179r  Sachin Tendulkar  Mohd. Azharuddin   \n",
       "\n",
       "   Aus captain              MOTS Series Win  \n",
       "0  Mark Taylor      Nayan Mongia      India  \n",
       "1  Mark Taylor      Nayan Mongia      India  \n",
       "2  Mark Taylor      Nayan Mongia      India  \n",
       "3  Mark Taylor      Nayan Mongia      India  \n",
       "4  Mark Taylor  Sachin Tendulkar      India  "
      ]
     },
     "execution_count": 56,
     "metadata": {},
     "output_type": "execute_result"
    }
   ],
   "source": [
    "df.head()"
   ]
  },
  {
   "cell_type": "code",
   "execution_count": 57,
   "metadata": {},
   "outputs": [],
   "source": [
    "df_copy = df"
   ]
  },
  {
   "cell_type": "code",
   "execution_count": 58,
   "metadata": {},
   "outputs": [
    {
     "name": "stdout",
     "output_type": "stream",
     "text": [
      "<class 'pandas.core.frame.DataFrame'>\n",
      "RangeIndex: 200 entries, 0 to 199\n",
      "Data columns (total 18 columns):\n",
      " #   Column                  Non-Null Count  Dtype  \n",
      "---  ------                  --------------  -----  \n",
      " 0   Test Series Year        200 non-null    object \n",
      " 1   Test Number             200 non-null    int64  \n",
      " 2   Innings                 200 non-null    int64  \n",
      " 3   Venue                   200 non-null    object \n",
      " 4   Host                    200 non-null    object \n",
      " 5   Highest Scorer          200 non-null    object \n",
      " 6   Team                    200 non-null    object \n",
      " 7   Runs by highest scorer  200 non-null    int64  \n",
      " 8   best bowler             200 non-null    object \n",
      " 9   wickets by best bowler  199 non-null    float64\n",
      " 10  team total              200 non-null    object \n",
      " 11  Winner                  200 non-null    object \n",
      " 12  Win Margin              200 non-null    object \n",
      " 13  MOTM                    200 non-null    object \n",
      " 14  Ind captain             200 non-null    object \n",
      " 15  Aus captain             200 non-null    object \n",
      " 16  MOTS                    200 non-null    object \n",
      " 17  Series Win              200 non-null    object \n",
      "dtypes: float64(1), int64(3), object(14)\n",
      "memory usage: 28.2+ KB\n"
     ]
    }
   ],
   "source": [
    "df_copy.info()"
   ]
  },
  {
   "cell_type": "code",
   "execution_count": 59,
   "metadata": {},
   "outputs": [
    {
     "data": {
      "text/plain": [
       "(200, 18)"
      ]
     },
     "execution_count": 59,
     "metadata": {},
     "output_type": "execute_result"
    }
   ],
   "source": [
    "df_copy.shape"
   ]
  },
  {
   "cell_type": "code",
   "execution_count": 60,
   "metadata": {},
   "outputs": [
    {
     "data": {
      "text/html": [
       "<div>\n",
       "<style scoped>\n",
       "    .dataframe tbody tr th:only-of-type {\n",
       "        vertical-align: middle;\n",
       "    }\n",
       "\n",
       "    .dataframe tbody tr th {\n",
       "        vertical-align: top;\n",
       "    }\n",
       "\n",
       "    .dataframe thead th {\n",
       "        text-align: right;\n",
       "    }\n",
       "</style>\n",
       "<table border=\"1\" class=\"dataframe\">\n",
       "  <thead>\n",
       "    <tr style=\"text-align: right;\">\n",
       "      <th></th>\n",
       "      <th>Test Number</th>\n",
       "      <th>Innings</th>\n",
       "      <th>Runs by highest scorer</th>\n",
       "      <th>wickets by best bowler</th>\n",
       "    </tr>\n",
       "  </thead>\n",
       "  <tbody>\n",
       "    <tr>\n",
       "      <th>count</th>\n",
       "      <td>200.000000</td>\n",
       "      <td>200.000000</td>\n",
       "      <td>200.000000</td>\n",
       "      <td>199.000000</td>\n",
       "    </tr>\n",
       "    <tr>\n",
       "      <th>mean</th>\n",
       "      <td>2.325000</td>\n",
       "      <td>2.440000</td>\n",
       "      <td>95.695000</td>\n",
       "      <td>3.874372</td>\n",
       "    </tr>\n",
       "    <tr>\n",
       "      <th>std</th>\n",
       "      <td>1.097908</td>\n",
       "      <td>1.101119</td>\n",
       "      <td>56.528393</td>\n",
       "      <td>1.604695</td>\n",
       "    </tr>\n",
       "    <tr>\n",
       "      <th>min</th>\n",
       "      <td>1.000000</td>\n",
       "      <td>1.000000</td>\n",
       "      <td>4.000000</td>\n",
       "      <td>0.000000</td>\n",
       "    </tr>\n",
       "    <tr>\n",
       "      <th>25%</th>\n",
       "      <td>1.000000</td>\n",
       "      <td>1.000000</td>\n",
       "      <td>56.750000</td>\n",
       "      <td>3.000000</td>\n",
       "    </tr>\n",
       "    <tr>\n",
       "      <th>50%</th>\n",
       "      <td>2.000000</td>\n",
       "      <td>2.000000</td>\n",
       "      <td>79.500000</td>\n",
       "      <td>4.000000</td>\n",
       "    </tr>\n",
       "    <tr>\n",
       "      <th>75%</th>\n",
       "      <td>3.000000</td>\n",
       "      <td>3.000000</td>\n",
       "      <td>123.250000</td>\n",
       "      <td>5.000000</td>\n",
       "    </tr>\n",
       "    <tr>\n",
       "      <th>max</th>\n",
       "      <td>4.000000</td>\n",
       "      <td>4.000000</td>\n",
       "      <td>329.000000</td>\n",
       "      <td>8.000000</td>\n",
       "    </tr>\n",
       "  </tbody>\n",
       "</table>\n",
       "</div>"
      ],
      "text/plain": [
       "       Test Number     Innings  Runs by highest scorer  wickets by best bowler\n",
       "count   200.000000  200.000000              200.000000              199.000000\n",
       "mean      2.325000    2.440000               95.695000                3.874372\n",
       "std       1.097908    1.101119               56.528393                1.604695\n",
       "min       1.000000    1.000000                4.000000                0.000000\n",
       "25%       1.000000    1.000000               56.750000                3.000000\n",
       "50%       2.000000    2.000000               79.500000                4.000000\n",
       "75%       3.000000    3.000000              123.250000                5.000000\n",
       "max       4.000000    4.000000              329.000000                8.000000"
      ]
     },
     "execution_count": 60,
     "metadata": {},
     "output_type": "execute_result"
    }
   ],
   "source": [
    "df_copy.describe()"
   ]
  },
  {
   "cell_type": "code",
   "execution_count": 61,
   "metadata": {},
   "outputs": [
    {
     "data": {
      "text/plain": [
       "Test Series Year          0\n",
       "Test Number               0\n",
       "Innings                   0\n",
       "Venue                     0\n",
       "Host                      0\n",
       "Highest Scorer            0\n",
       "Team                      0\n",
       "Runs by highest scorer    0\n",
       "best bowler               0\n",
       "wickets by best bowler    1\n",
       "team total                0\n",
       "Winner                    0\n",
       "Win Margin                0\n",
       "MOTM                      0\n",
       "Ind captain               0\n",
       "Aus captain               0\n",
       "MOTS                      0\n",
       "Series Win                0\n",
       "dtype: int64"
      ]
     },
     "execution_count": 61,
     "metadata": {},
     "output_type": "execute_result"
    }
   ],
   "source": [
    "df_copy.isnull().sum()"
   ]
  },
  {
   "cell_type": "code",
   "execution_count": 62,
   "metadata": {},
   "outputs": [
    {
     "data": {
      "text/html": [
       "<div>\n",
       "<style scoped>\n",
       "    .dataframe tbody tr th:only-of-type {\n",
       "        vertical-align: middle;\n",
       "    }\n",
       "\n",
       "    .dataframe tbody tr th {\n",
       "        vertical-align: top;\n",
       "    }\n",
       "\n",
       "    .dataframe thead th {\n",
       "        text-align: right;\n",
       "    }\n",
       "</style>\n",
       "<table border=\"1\" class=\"dataframe\">\n",
       "  <thead>\n",
       "    <tr style=\"text-align: right;\">\n",
       "      <th></th>\n",
       "      <th>Test Series Year</th>\n",
       "      <th>Test Number</th>\n",
       "      <th>Innings</th>\n",
       "      <th>Venue</th>\n",
       "      <th>Host</th>\n",
       "      <th>Highest Scorer</th>\n",
       "      <th>Team</th>\n",
       "      <th>Runs by highest scorer</th>\n",
       "      <th>best bowler</th>\n",
       "      <th>wickets by best bowler</th>\n",
       "      <th>team total</th>\n",
       "      <th>Winner</th>\n",
       "      <th>Win Margin</th>\n",
       "      <th>MOTM</th>\n",
       "      <th>Ind captain</th>\n",
       "      <th>Aus captain</th>\n",
       "      <th>MOTS</th>\n",
       "      <th>Series Win</th>\n",
       "    </tr>\n",
       "  </thead>\n",
       "  <tbody>\n",
       "  </tbody>\n",
       "</table>\n",
       "</div>"
      ],
      "text/plain": [
       "Empty DataFrame\n",
       "Columns: [Test Series Year, Test Number, Innings, Venue, Host, Highest Scorer, Team, Runs by highest scorer, best bowler, wickets by best bowler, team total, Winner, Win Margin, MOTM, Ind captain, Aus captain, MOTS, Series Win]\n",
       "Index: []"
      ]
     },
     "execution_count": 62,
     "metadata": {},
     "output_type": "execute_result"
    }
   ],
   "source": [
    "df_copy[df_copy.duplicated()]"
   ]
  },
  {
   "cell_type": "code",
   "execution_count": 63,
   "metadata": {},
   "outputs": [
    {
     "data": {
      "text/plain": [
       "4.0    57\n",
       "3.0    42\n",
       "5.0    40\n",
       "2.0    17\n",
       "6.0    16\n",
       "1.0    13\n",
       "7.0     6\n",
       "0.0     4\n",
       "8.0     4\n",
       "Name: wickets by best bowler, dtype: int64"
      ]
     },
     "execution_count": 63,
     "metadata": {},
     "output_type": "execute_result"
    }
   ],
   "source": [
    "df_copy['wickets by best bowler'].value_counts()"
   ]
  },
  {
   "cell_type": "code",
   "execution_count": 64,
   "metadata": {},
   "outputs": [],
   "source": [
    "df_copy.dropna(how='any', inplace=True)"
   ]
  },
  {
   "cell_type": "code",
   "execution_count": 65,
   "metadata": {},
   "outputs": [
    {
     "data": {
      "text/plain": [
       "Test Series Year          0\n",
       "Test Number               0\n",
       "Innings                   0\n",
       "Venue                     0\n",
       "Host                      0\n",
       "Highest Scorer            0\n",
       "Team                      0\n",
       "Runs by highest scorer    0\n",
       "best bowler               0\n",
       "wickets by best bowler    0\n",
       "team total                0\n",
       "Winner                    0\n",
       "Win Margin                0\n",
       "MOTM                      0\n",
       "Ind captain               0\n",
       "Aus captain               0\n",
       "MOTS                      0\n",
       "Series Win                0\n",
       "dtype: int64"
      ]
     },
     "execution_count": 65,
     "metadata": {},
     "output_type": "execute_result"
    }
   ],
   "source": [
    "df_copy.isnull().sum()"
   ]
  },
  {
   "cell_type": "code",
   "execution_count": 66,
   "metadata": {},
   "outputs": [
    {
     "data": {
      "text/plain": [
       "(199, 18)"
      ]
     },
     "execution_count": 66,
     "metadata": {},
     "output_type": "execute_result"
    }
   ],
   "source": [
    "df_copy.shape"
   ]
  },
  {
   "cell_type": "code",
   "execution_count": 67,
   "metadata": {},
   "outputs": [
    {
     "data": {
      "text/plain": [
       "2003-04    16\n",
       "2004-05    16\n",
       "2008-09    16\n",
       "2014-15    16\n",
       "2020-21    16\n",
       "2007-08    15\n",
       "2012-13    15\n",
       "2018-19    15\n",
       "2011-12    14\n",
       "2016-17    14\n",
       "2000-01    12\n",
       "1997-98    11\n",
       "1999-00    11\n",
       "2010-11     8\n",
       "1996-97     4\n",
       "Name: Test Series Year, dtype: int64"
      ]
     },
     "execution_count": 67,
     "metadata": {},
     "output_type": "execute_result"
    }
   ],
   "source": [
    "df_copy['Test Series Year'].value_counts()"
   ]
  },
  {
   "cell_type": "code",
   "execution_count": 68,
   "metadata": {},
   "outputs": [
    {
     "data": {
      "text/html": [
       "<div>\n",
       "<style scoped>\n",
       "    .dataframe tbody tr th:only-of-type {\n",
       "        vertical-align: middle;\n",
       "    }\n",
       "\n",
       "    .dataframe tbody tr th {\n",
       "        vertical-align: top;\n",
       "    }\n",
       "\n",
       "    .dataframe thead th {\n",
       "        text-align: right;\n",
       "    }\n",
       "</style>\n",
       "<table border=\"1\" class=\"dataframe\">\n",
       "  <thead>\n",
       "    <tr style=\"text-align: right;\">\n",
       "      <th></th>\n",
       "      <th>Test Series Year</th>\n",
       "      <th>Test Number</th>\n",
       "      <th>Innings</th>\n",
       "      <th>Venue</th>\n",
       "      <th>Host</th>\n",
       "      <th>Highest Scorer</th>\n",
       "      <th>Team</th>\n",
       "      <th>Runs by highest scorer</th>\n",
       "      <th>best bowler</th>\n",
       "      <th>wickets by best bowler</th>\n",
       "      <th>team total</th>\n",
       "      <th>Winner</th>\n",
       "      <th>Win Margin</th>\n",
       "      <th>MOTM</th>\n",
       "      <th>Ind captain</th>\n",
       "      <th>Aus captain</th>\n",
       "      <th>MOTS</th>\n",
       "      <th>Series Win</th>\n",
       "    </tr>\n",
       "  </thead>\n",
       "  <tbody>\n",
       "    <tr>\n",
       "      <th>0</th>\n",
       "      <td>1996-97</td>\n",
       "      <td>1</td>\n",
       "      <td>1</td>\n",
       "      <td>Delhi</td>\n",
       "      <td>India</td>\n",
       "      <td>Michael Slater</td>\n",
       "      <td>Australia</td>\n",
       "      <td>44</td>\n",
       "      <td>Anil Kumble</td>\n",
       "      <td>4.0</td>\n",
       "      <td>182/10</td>\n",
       "      <td>India</td>\n",
       "      <td>7w</td>\n",
       "      <td>Nayan Mongia</td>\n",
       "      <td>Sachin Tendulkar</td>\n",
       "      <td>Mark Taylor</td>\n",
       "      <td>Nayan Mongia</td>\n",
       "      <td>India</td>\n",
       "    </tr>\n",
       "    <tr>\n",
       "      <th>1</th>\n",
       "      <td>1996-97</td>\n",
       "      <td>1</td>\n",
       "      <td>2</td>\n",
       "      <td>Delhi</td>\n",
       "      <td>India</td>\n",
       "      <td>Nayan Mongia</td>\n",
       "      <td>India</td>\n",
       "      <td>152</td>\n",
       "      <td>Paul Reiffel</td>\n",
       "      <td>3.0</td>\n",
       "      <td>361/10</td>\n",
       "      <td>India</td>\n",
       "      <td>7w</td>\n",
       "      <td>Nayan Mongia</td>\n",
       "      <td>Sachin Tendulkar</td>\n",
       "      <td>Mark Taylor</td>\n",
       "      <td>Nayan Mongia</td>\n",
       "      <td>India</td>\n",
       "    </tr>\n",
       "    <tr>\n",
       "      <th>2</th>\n",
       "      <td>1996-97</td>\n",
       "      <td>1</td>\n",
       "      <td>3</td>\n",
       "      <td>Delhi</td>\n",
       "      <td>India</td>\n",
       "      <td>Steve Waugh</td>\n",
       "      <td>Australia</td>\n",
       "      <td>67</td>\n",
       "      <td>Anil Kumble</td>\n",
       "      <td>5.0</td>\n",
       "      <td>234/10</td>\n",
       "      <td>India</td>\n",
       "      <td>7w</td>\n",
       "      <td>Nayan Mongia</td>\n",
       "      <td>Sachin Tendulkar</td>\n",
       "      <td>Mark Taylor</td>\n",
       "      <td>Nayan Mongia</td>\n",
       "      <td>India</td>\n",
       "    </tr>\n",
       "    <tr>\n",
       "      <th>3</th>\n",
       "      <td>1996-97</td>\n",
       "      <td>1</td>\n",
       "      <td>4</td>\n",
       "      <td>Delhi</td>\n",
       "      <td>India</td>\n",
       "      <td>Mohd. Azharuddin</td>\n",
       "      <td>India</td>\n",
       "      <td>21</td>\n",
       "      <td>Paul Reiffel</td>\n",
       "      <td>2.0</td>\n",
       "      <td>56/3</td>\n",
       "      <td>India</td>\n",
       "      <td>7w</td>\n",
       "      <td>Nayan Mongia</td>\n",
       "      <td>Sachin Tendulkar</td>\n",
       "      <td>Mark Taylor</td>\n",
       "      <td>Nayan Mongia</td>\n",
       "      <td>India</td>\n",
       "    </tr>\n",
       "    <tr>\n",
       "      <th>4</th>\n",
       "      <td>1997-98</td>\n",
       "      <td>1</td>\n",
       "      <td>1</td>\n",
       "      <td>Chennai</td>\n",
       "      <td>India</td>\n",
       "      <td>Navjot Sidhu</td>\n",
       "      <td>India</td>\n",
       "      <td>62</td>\n",
       "      <td>Shane Warne</td>\n",
       "      <td>4.0</td>\n",
       "      <td>257/10</td>\n",
       "      <td>India</td>\n",
       "      <td>179r</td>\n",
       "      <td>Sachin Tendulkar</td>\n",
       "      <td>Mohd. Azharuddin</td>\n",
       "      <td>Mark Taylor</td>\n",
       "      <td>Sachin Tendulkar</td>\n",
       "      <td>India</td>\n",
       "    </tr>\n",
       "  </tbody>\n",
       "</table>\n",
       "</div>"
      ],
      "text/plain": [
       "  Test Series Year  Test Number  Innings    Venue   Host    Highest Scorer  \\\n",
       "0          1996-97            1        1    Delhi  India    Michael Slater   \n",
       "1          1996-97            1        2    Delhi  India      Nayan Mongia   \n",
       "2          1996-97            1        3    Delhi  India       Steve Waugh   \n",
       "3          1996-97            1        4    Delhi  India  Mohd. Azharuddin   \n",
       "4          1997-98            1        1  Chennai  India      Navjot Sidhu   \n",
       "\n",
       "        Team  Runs by highest scorer   best bowler  wickets by best bowler  \\\n",
       "0  Australia                      44   Anil Kumble                     4.0   \n",
       "1      India                     152  Paul Reiffel                     3.0   \n",
       "2  Australia                      67   Anil Kumble                     5.0   \n",
       "3      India                      21  Paul Reiffel                     2.0   \n",
       "4      India                      62   Shane Warne                     4.0   \n",
       "\n",
       "  team total Winner Win Margin              MOTM       Ind captain  \\\n",
       "0     182/10  India         7w      Nayan Mongia  Sachin Tendulkar   \n",
       "1     361/10  India         7w      Nayan Mongia  Sachin Tendulkar   \n",
       "2     234/10  India         7w      Nayan Mongia  Sachin Tendulkar   \n",
       "3       56/3  India         7w      Nayan Mongia  Sachin Tendulkar   \n",
       "4     257/10  India       179r  Sachin Tendulkar  Mohd. Azharuddin   \n",
       "\n",
       "   Aus captain              MOTS Series Win  \n",
       "0  Mark Taylor      Nayan Mongia      India  \n",
       "1  Mark Taylor      Nayan Mongia      India  \n",
       "2  Mark Taylor      Nayan Mongia      India  \n",
       "3  Mark Taylor      Nayan Mongia      India  \n",
       "4  Mark Taylor  Sachin Tendulkar      India  "
      ]
     },
     "execution_count": 68,
     "metadata": {},
     "output_type": "execute_result"
    }
   ],
   "source": [
    "df_copy.head()"
   ]
  },
  {
   "cell_type": "code",
   "execution_count": 69,
   "metadata": {},
   "outputs": [],
   "source": [
    "import matplotlib.pyplot as plt\n",
    "import seaborn as sns"
   ]
  },
  {
   "cell_type": "code",
   "execution_count": 76,
   "metadata": {},
   "outputs": [],
   "source": [
    "test_year = df_copy.groupby('Test Series Year')['Test Series Year'].count().index"
   ]
  },
  {
   "cell_type": "code",
   "execution_count": 77,
   "metadata": {},
   "outputs": [],
   "source": [
    "innings_in_that_year = df_copy.groupby('Test Series Year')['Test Series Year'].count().values"
   ]
  },
  {
   "cell_type": "code",
   "execution_count": 84,
   "metadata": {},
   "outputs": [
    {
     "data": {
      "image/png": "[encoded data removed]",
      "text/plain": [
       "<Figure size 1200x800 with 1 Axes>"
      ]
     },
     "metadata": {},
     "output_type": "display_data"
    }
   ],
   "source": [
    "plt.figure(figsize=(12,8))\n",
    "plt.bar(x = test_year, height = innings_in_that_year, color=['black', 'red', 'green', 'blue', 'cyan', 'orange', 'yellow', 'pink', '#ffe4e1'])\n",
    "plt.xticks(rotation = 45)\n",
    "plt.title('Number of Innings in a Year')\n",
    "plt.xlabel('Years')\n",
    "plt.ylabel('Number of Test Innings')\n",
    "for i in range(len(test_year)):\n",
    "    plt.text(i, innings_in_that_year[i], innings_in_that_year[i], ha = 'center', va = 'bottom', fontsize = '10')\n",
    "plt.show()"
   ]
  },
  {
   "cell_type": "code",
   "execution_count": 85,
   "metadata": {},
   "outputs": [
    {
     "data": {
      "text/html": [
       "<div>\n",
       "<style scoped>\n",
       "    .dataframe tbody tr th:only-of-type {\n",
       "        vertical-align: middle;\n",
       "    }\n",
       "\n",
       "    .dataframe tbody tr th {\n",
       "        vertical-align: top;\n",
       "    }\n",
       "\n",
       "    .dataframe thead th {\n",
       "        text-align: right;\n",
       "    }\n",
       "</style>\n",
       "<table border=\"1\" class=\"dataframe\">\n",
       "  <thead>\n",
       "    <tr style=\"text-align: right;\">\n",
       "      <th></th>\n",
       "      <th>Test Series Year</th>\n",
       "      <th>Test Number</th>\n",
       "      <th>Innings</th>\n",
       "      <th>Venue</th>\n",
       "      <th>Host</th>\n",
       "      <th>Highest Scorer</th>\n",
       "      <th>Team</th>\n",
       "      <th>Runs by highest scorer</th>\n",
       "      <th>best bowler</th>\n",
       "      <th>wickets by best bowler</th>\n",
       "      <th>team total</th>\n",
       "      <th>Winner</th>\n",
       "      <th>Win Margin</th>\n",
       "      <th>MOTM</th>\n",
       "      <th>Ind captain</th>\n",
       "      <th>Aus captain</th>\n",
       "      <th>MOTS</th>\n",
       "      <th>Series Win</th>\n",
       "    </tr>\n",
       "  </thead>\n",
       "  <tbody>\n",
       "    <tr>\n",
       "      <th>0</th>\n",
       "      <td>1996-97</td>\n",
       "      <td>1</td>\n",
       "      <td>1</td>\n",
       "      <td>Delhi</td>\n",
       "      <td>India</td>\n",
       "      <td>Michael Slater</td>\n",
       "      <td>Australia</td>\n",
       "      <td>44</td>\n",
       "      <td>Anil Kumble</td>\n",
       "      <td>4.0</td>\n",
       "      <td>182/10</td>\n",
       "      <td>India</td>\n",
       "      <td>7w</td>\n",
       "      <td>Nayan Mongia</td>\n",
       "      <td>Sachin Tendulkar</td>\n",
       "      <td>Mark Taylor</td>\n",
       "      <td>Nayan Mongia</td>\n",
       "      <td>India</td>\n",
       "    </tr>\n",
       "    <tr>\n",
       "      <th>1</th>\n",
       "      <td>1996-97</td>\n",
       "      <td>1</td>\n",
       "      <td>2</td>\n",
       "      <td>Delhi</td>\n",
       "      <td>India</td>\n",
       "      <td>Nayan Mongia</td>\n",
       "      <td>India</td>\n",
       "      <td>152</td>\n",
       "      <td>Paul Reiffel</td>\n",
       "      <td>3.0</td>\n",
       "      <td>361/10</td>\n",
       "      <td>India</td>\n",
       "      <td>7w</td>\n",
       "      <td>Nayan Mongia</td>\n",
       "      <td>Sachin Tendulkar</td>\n",
       "      <td>Mark Taylor</td>\n",
       "      <td>Nayan Mongia</td>\n",
       "      <td>India</td>\n",
       "    </tr>\n",
       "    <tr>\n",
       "      <th>2</th>\n",
       "      <td>1996-97</td>\n",
       "      <td>1</td>\n",
       "      <td>3</td>\n",
       "      <td>Delhi</td>\n",
       "      <td>India</td>\n",
       "      <td>Steve Waugh</td>\n",
       "      <td>Australia</td>\n",
       "      <td>67</td>\n",
       "      <td>Anil Kumble</td>\n",
       "      <td>5.0</td>\n",
       "      <td>234/10</td>\n",
       "      <td>India</td>\n",
       "      <td>7w</td>\n",
       "      <td>Nayan Mongia</td>\n",
       "      <td>Sachin Tendulkar</td>\n",
       "      <td>Mark Taylor</td>\n",
       "      <td>Nayan Mongia</td>\n",
       "      <td>India</td>\n",
       "    </tr>\n",
       "    <tr>\n",
       "      <th>3</th>\n",
       "      <td>1996-97</td>\n",
       "      <td>1</td>\n",
       "      <td>4</td>\n",
       "      <td>Delhi</td>\n",
       "      <td>India</td>\n",
       "      <td>Mohd. Azharuddin</td>\n",
       "      <td>India</td>\n",
       "      <td>21</td>\n",
       "      <td>Paul Reiffel</td>\n",
       "      <td>2.0</td>\n",
       "      <td>56/3</td>\n",
       "      <td>India</td>\n",
       "      <td>7w</td>\n",
       "      <td>Nayan Mongia</td>\n",
       "      <td>Sachin Tendulkar</td>\n",
       "      <td>Mark Taylor</td>\n",
       "      <td>Nayan Mongia</td>\n",
       "      <td>India</td>\n",
       "    </tr>\n",
       "    <tr>\n",
       "      <th>4</th>\n",
       "      <td>1997-98</td>\n",
       "      <td>1</td>\n",
       "      <td>1</td>\n",
       "      <td>Chennai</td>\n",
       "      <td>India</td>\n",
       "      <td>Navjot Sidhu</td>\n",
       "      <td>India</td>\n",
       "      <td>62</td>\n",
       "      <td>Shane Warne</td>\n",
       "      <td>4.0</td>\n",
       "      <td>257/10</td>\n",
       "      <td>India</td>\n",
       "      <td>179r</td>\n",
       "      <td>Sachin Tendulkar</td>\n",
       "      <td>Mohd. Azharuddin</td>\n",
       "      <td>Mark Taylor</td>\n",
       "      <td>Sachin Tendulkar</td>\n",
       "      <td>India</td>\n",
       "    </tr>\n",
       "  </tbody>\n",
       "</table>\n",
       "</div>"
      ],
      "text/plain": [
       "  Test Series Year  Test Number  Innings    Venue   Host    Highest Scorer  \\\n",
       "0          1996-97            1        1    Delhi  India    Michael Slater   \n",
       "1          1996-97            1        2    Delhi  India      Nayan Mongia   \n",
       "2          1996-97            1        3    Delhi  India       Steve Waugh   \n",
       "3          1996-97            1        4    Delhi  India  Mohd. Azharuddin   \n",
       "4          1997-98            1        1  Chennai  India      Navjot Sidhu   \n",
       "\n",
       "        Team  Runs by highest scorer   best bowler  wickets by best bowler  \\\n",
       "0  Australia                      44   Anil Kumble                     4.0   \n",
       "1      India                     152  Paul Reiffel                     3.0   \n",
       "2  Australia                      67   Anil Kumble                     5.0   \n",
       "3      India                      21  Paul Reiffel                     2.0   \n",
       "4      India                      62   Shane Warne                     4.0   \n",
       "\n",
       "  team total Winner Win Margin              MOTM       Ind captain  \\\n",
       "0     182/10  India         7w      Nayan Mongia  Sachin Tendulkar   \n",
       "1     361/10  India         7w      Nayan Mongia  Sachin Tendulkar   \n",
       "2     234/10  India         7w      Nayan Mongia  Sachin Tendulkar   \n",
       "3       56/3  India         7w      Nayan Mongia  Sachin Tendulkar   \n",
       "4     257/10  India       179r  Sachin Tendulkar  Mohd. Azharuddin   \n",
       "\n",
       "   Aus captain              MOTS Series Win  \n",
       "0  Mark Taylor      Nayan Mongia      India  \n",
       "1  Mark Taylor      Nayan Mongia      India  \n",
       "2  Mark Taylor      Nayan Mongia      India  \n",
       "3  Mark Taylor      Nayan Mongia      India  \n",
       "4  Mark Taylor  Sachin Tendulkar      India  "
      ]
     },
     "execution_count": 85,
     "metadata": {},
     "output_type": "execute_result"
    }
   ],
   "source": [
    "df_copy.head()"
   ]
  },
  {
   "cell_type": "code",
   "execution_count": 93,
   "metadata": {},
   "outputs": [],
   "source": [
    "df1 = df_copy.groupby(['Test Series Year','Highest Scorer', 'team total', 'Team'])['Runs by highest scorer'].max().reset_index()"
   ]
  },
  {
   "cell_type": "code",
   "execution_count": 94,
   "metadata": {},
   "outputs": [],
   "source": [
    "df2 = pd.DataFrame(df1)"
   ]
  },
  {
   "cell_type": "code",
   "execution_count": 96,
   "metadata": {},
   "outputs": [
    {
     "data": {
      "text/html": [
       "<div>\n",
       "<style scoped>\n",
       "    .dataframe tbody tr th:only-of-type {\n",
       "        vertical-align: middle;\n",
       "    }\n",
       "\n",
       "    .dataframe tbody tr th {\n",
       "        vertical-align: top;\n",
       "    }\n",
       "\n",
       "    .dataframe thead th {\n",
       "        text-align: right;\n",
       "    }\n",
       "</style>\n",
       "<table border=\"1\" class=\"dataframe\">\n",
       "  <thead>\n",
       "    <tr style=\"text-align: right;\">\n",
       "      <th></th>\n",
       "      <th>Test Series Year</th>\n",
       "      <th>Highest Scorer</th>\n",
       "      <th>team total</th>\n",
       "      <th>Team</th>\n",
       "      <th>Runs by highest scorer</th>\n",
       "    </tr>\n",
       "  </thead>\n",
       "  <tbody>\n",
       "    <tr>\n",
       "      <th>2</th>\n",
       "      <td>1996-97</td>\n",
       "      <td>Nayan Mongia</td>\n",
       "      <td>361/10</td>\n",
       "      <td>India</td>\n",
       "      <td>152</td>\n",
       "    </tr>\n",
       "    <tr>\n",
       "      <th>4</th>\n",
       "      <td>1997-98</td>\n",
       "      <td>Ian Healy</td>\n",
       "      <td>328/10</td>\n",
       "      <td>Australia</td>\n",
       "      <td>90</td>\n",
       "    </tr>\n",
       "    <tr>\n",
       "      <th>3</th>\n",
       "      <td>1996-97</td>\n",
       "      <td>Steve Waugh</td>\n",
       "      <td>234/10</td>\n",
       "      <td>Australia</td>\n",
       "      <td>67</td>\n",
       "    </tr>\n",
       "    <tr>\n",
       "      <th>0</th>\n",
       "      <td>1996-97</td>\n",
       "      <td>Michael Slater</td>\n",
       "      <td>182/10</td>\n",
       "      <td>Australia</td>\n",
       "      <td>44</td>\n",
       "    </tr>\n",
       "    <tr>\n",
       "      <th>1</th>\n",
       "      <td>1996-97</td>\n",
       "      <td>Mohd. Azharuddin</td>\n",
       "      <td>56/3</td>\n",
       "      <td>India</td>\n",
       "      <td>21</td>\n",
       "    </tr>\n",
       "  </tbody>\n",
       "</table>\n",
       "</div>"
      ],
      "text/plain": [
       "  Test Series Year    Highest Scorer team total       Team  \\\n",
       "2          1996-97      Nayan Mongia     361/10      India   \n",
       "4          1997-98         Ian Healy     328/10  Australia   \n",
       "3          1996-97       Steve Waugh     234/10  Australia   \n",
       "0          1996-97    Michael Slater     182/10  Australia   \n",
       "1          1996-97  Mohd. Azharuddin       56/3      India   \n",
       "\n",
       "   Runs by highest scorer  \n",
       "2                     152  \n",
       "4                      90  \n",
       "3                      67  \n",
       "0                      44  \n",
       "1                      21  "
      ]
     },
     "execution_count": 96,
     "metadata": {},
     "output_type": "execute_result"
    }
   ],
   "source": [
    "df2.head().sort_values(by = 'Runs by highest scorer', ascending = False)"
   ]
  },
  {
   "cell_type": "code",
   "execution_count": null,
   "metadata": {},
   "outputs": [],
   "source": []
  }
 ],
 "metadata": {
  "kernelspec": {
   "display_name": "Python 3",
   "language": "python",
   "name": "python3"
  },
  "language_info": {
   "codemirror_mode": {
    "name": "ipython",
    "version": 3
   },
   "file_extension": ".py",
   "mimetype": "text/x-python",
   "name": "python",
   "nbconvert_exporter": "python",
   "pygments_lexer": "ipython3",
   "version": "3.11.1"
  },
  "orig_nbformat": 4
 },
 "nbformat": 4,
 "nbformat_minor": 2
}
