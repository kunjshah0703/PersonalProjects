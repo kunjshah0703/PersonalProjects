{
 "cells": [
  {
   "cell_type": "code",
   "execution_count": 1,
   "metadata": {},
   "outputs": [
    {
     "data": {
      "text/plain": [
       "'c:\\\\Users\\\\Kunj Shah\\\\OneDrive\\\\Desktop\\\\Python_Personal_Projects'"
      ]
     },
     "execution_count": 1,
     "metadata": {},
     "output_type": "execute_result"
    }
   ],
   "source": [
    "pwd"
   ]
  },
  {
   "cell_type": "code",
   "execution_count": 2,
   "metadata": {},
   "outputs": [],
   "source": [
    "import os"
   ]
  },
  {
   "cell_type": "code",
   "execution_count": 3,
   "metadata": {},
   "outputs": [],
   "source": [
    "os.chdir(r'C:\\Users\\Kunj Shah\\Downloads')"
   ]
  },
  {
   "cell_type": "code",
   "execution_count": 4,
   "metadata": {},
   "outputs": [
    {
     "data": {
      "text/plain": [
       "'C:\\\\Users\\\\Kunj Shah\\\\Downloads'"
      ]
     },
     "execution_count": 4,
     "metadata": {},
     "output_type": "execute_result"
    }
   ],
   "source": [
    "pwd"
   ]
  },
  {
   "cell_type": "code",
   "execution_count": 5,
   "metadata": {},
   "outputs": [],
   "source": [
    "import pandas as pd"
   ]
  },
  {
   "cell_type": "code",
   "execution_count": 6,
   "metadata": {},
   "outputs": [],
   "source": [
    "smart_phone = pd.read_csv(r'C:\\Users\\Kunj Shah\\Downloads\\flipkart_smartphones.csv')"
   ]
  },
  {
   "cell_type": "code",
   "execution_count": 7,
   "metadata": {},
   "outputs": [
    {
     "data": {
      "text/html": [
       "<div>\n",
       "<style scoped>\n",
       "    .dataframe tbody tr th:only-of-type {\n",
       "        vertical-align: middle;\n",
       "    }\n",
       "\n",
       "    .dataframe tbody tr th {\n",
       "        vertical-align: top;\n",
       "    }\n",
       "\n",
       "    .dataframe thead th {\n",
       "        text-align: right;\n",
       "    }\n",
       "</style>\n",
       "<table border=\"1\" class=\"dataframe\">\n",
       "  <thead>\n",
       "    <tr style=\"text-align: right;\">\n",
       "      <th></th>\n",
       "      <th>brand</th>\n",
       "      <th>model</th>\n",
       "      <th>colour</th>\n",
       "      <th>original_price</th>\n",
       "      <th>discounted_price</th>\n",
       "      <th>ratings</th>\n",
       "      <th>rating_count</th>\n",
       "      <th>reviews</th>\n",
       "      <th>memory</th>\n",
       "      <th>storage</th>\n",
       "      <th>processor</th>\n",
       "      <th>rear_camera</th>\n",
       "      <th>front_camera</th>\n",
       "      <th>display_size</th>\n",
       "      <th>battery_capacity</th>\n",
       "      <th>battery_type</th>\n",
       "    </tr>\n",
       "  </thead>\n",
       "  <tbody>\n",
       "    <tr>\n",
       "      <th>0</th>\n",
       "      <td>VIVO</td>\n",
       "      <td>VIVO T1 44W</td>\n",
       "      <td>Starry Sky</td>\n",
       "      <td>19990</td>\n",
       "      <td>14499</td>\n",
       "      <td>4.5</td>\n",
       "      <td>87331</td>\n",
       "      <td>6044</td>\n",
       "      <td>4.0</td>\n",
       "      <td>128.0</td>\n",
       "      <td>Qualcomm Snapdragon 680</td>\n",
       "      <td>50MP + 2MP + 2MP</td>\n",
       "      <td>16MP</td>\n",
       "      <td>16.36</td>\n",
       "      <td>5000.0</td>\n",
       "      <td>Lithium</td>\n",
       "    </tr>\n",
       "    <tr>\n",
       "      <th>1</th>\n",
       "      <td>APPLE</td>\n",
       "      <td>APPLE IPHONE 11</td>\n",
       "      <td>White</td>\n",
       "      <td>48900</td>\n",
       "      <td>47199</td>\n",
       "      <td>4.6</td>\n",
       "      <td>184191</td>\n",
       "      <td>10818</td>\n",
       "      <td>NaN</td>\n",
       "      <td>128.0</td>\n",
       "      <td>A Bionic Chip</td>\n",
       "      <td>12MP + 12MP</td>\n",
       "      <td>12MP</td>\n",
       "      <td>15.49</td>\n",
       "      <td>NaN</td>\n",
       "      <td>NaN</td>\n",
       "    </tr>\n",
       "    <tr>\n",
       "      <th>2</th>\n",
       "      <td>VIVO</td>\n",
       "      <td>VIVO T1 44W</td>\n",
       "      <td>Midnight Galaxy</td>\n",
       "      <td>20990</td>\n",
       "      <td>15999</td>\n",
       "      <td>4.4</td>\n",
       "      <td>51365</td>\n",
       "      <td>3750</td>\n",
       "      <td>6.0</td>\n",
       "      <td>128.0</td>\n",
       "      <td>Qualcomm Snapdragon 680</td>\n",
       "      <td>50MP + 2MP + 2MP</td>\n",
       "      <td>16MP</td>\n",
       "      <td>16.36</td>\n",
       "      <td>5000.0</td>\n",
       "      <td>Lithium</td>\n",
       "    </tr>\n",
       "    <tr>\n",
       "      <th>3</th>\n",
       "      <td>XIAOMI</td>\n",
       "      <td>POCO M4 5G</td>\n",
       "      <td>Power Black</td>\n",
       "      <td>15999</td>\n",
       "      <td>11999</td>\n",
       "      <td>4.2</td>\n",
       "      <td>53448</td>\n",
       "      <td>4185</td>\n",
       "      <td>4.0</td>\n",
       "      <td>64.0</td>\n",
       "      <td>Mediatek Dimensity 700</td>\n",
       "      <td>50MP + 2MP</td>\n",
       "      <td>8MP</td>\n",
       "      <td>16.71</td>\n",
       "      <td>5000.0</td>\n",
       "      <td>Lithium Polymer</td>\n",
       "    </tr>\n",
       "    <tr>\n",
       "      <th>4</th>\n",
       "      <td>XIAOMI</td>\n",
       "      <td>REDMI 10</td>\n",
       "      <td>Caribbean Green</td>\n",
       "      <td>14999</td>\n",
       "      <td>9299</td>\n",
       "      <td>4.3</td>\n",
       "      <td>187787</td>\n",
       "      <td>12084</td>\n",
       "      <td>4.0</td>\n",
       "      <td>64.0</td>\n",
       "      <td>Qualcomm Snapdragon 680</td>\n",
       "      <td>50MP + 2MP</td>\n",
       "      <td>5MP</td>\n",
       "      <td>17.02</td>\n",
       "      <td>6000.0</td>\n",
       "      <td>Lithium Polymer</td>\n",
       "    </tr>\n",
       "  </tbody>\n",
       "</table>\n",
       "</div>"
      ],
      "text/plain": [
       "    brand             model           colour  original_price  \\\n",
       "0    VIVO      VIVO T1 44W        Starry Sky           19990   \n",
       "1   APPLE  APPLE IPHONE 11             White           48900   \n",
       "2    VIVO      VIVO T1 44W   Midnight Galaxy           20990   \n",
       "3  XIAOMI       POCO M4 5G       Power Black           15999   \n",
       "4  XIAOMI         REDMI 10   Caribbean Green           14999   \n",
       "\n",
       "   discounted_price  ratings  rating_count  reviews  memory  storage  \\\n",
       "0             14499      4.5         87331     6044     4.0    128.0   \n",
       "1             47199      4.6        184191    10818     NaN    128.0   \n",
       "2             15999      4.4         51365     3750     6.0    128.0   \n",
       "3             11999      4.2         53448     4185     4.0     64.0   \n",
       "4              9299      4.3        187787    12084     4.0     64.0   \n",
       "\n",
       "                 processor        rear_camera front_camera  display_size  \\\n",
       "0  Qualcomm Snapdragon 680  50MP + 2MP + 2MP          16MP         16.36   \n",
       "1            A Bionic Chip       12MP + 12MP          12MP         15.49   \n",
       "2  Qualcomm Snapdragon 680  50MP + 2MP + 2MP          16MP         16.36   \n",
       "3   Mediatek Dimensity 700        50MP + 2MP           8MP         16.71   \n",
       "4  Qualcomm Snapdragon 680        50MP + 2MP           5MP         17.02   \n",
       "\n",
       "   battery_capacity     battery_type  \n",
       "0            5000.0          Lithium  \n",
       "1               NaN              NaN  \n",
       "2            5000.0          Lithium  \n",
       "3            5000.0  Lithium Polymer  \n",
       "4            6000.0  Lithium Polymer  "
      ]
     },
     "execution_count": 7,
     "metadata": {},
     "output_type": "execute_result"
    }
   ],
   "source": [
    "smart_phone.head()"
   ]
  },
  {
   "cell_type": "code",
   "execution_count": 8,
   "metadata": {},
   "outputs": [
    {
     "name": "stdout",
     "output_type": "stream",
     "text": [
      "<class 'pandas.core.frame.DataFrame'>\n",
      "RangeIndex: 836 entries, 0 to 835\n",
      "Data columns (total 16 columns):\n",
      " #   Column            Non-Null Count  Dtype  \n",
      "---  ------            --------------  -----  \n",
      " 0   brand             836 non-null    object \n",
      " 1   model             836 non-null    object \n",
      " 2   colour            831 non-null    object \n",
      " 3   original_price    836 non-null    int64  \n",
      " 4   discounted_price  836 non-null    int64  \n",
      " 5   ratings           836 non-null    float64\n",
      " 6   rating_count      836 non-null    int64  \n",
      " 7   reviews           836 non-null    int64  \n",
      " 8   memory            757 non-null    float64\n",
      " 9   storage           820 non-null    float64\n",
      " 10  processor         698 non-null    object \n",
      " 11  rear_camera       836 non-null    object \n",
      " 12  front_camera      707 non-null    object \n",
      " 13  display_size      836 non-null    float64\n",
      " 14  battery_capacity  778 non-null    float64\n",
      " 15  battery_type      477 non-null    object \n",
      "dtypes: float64(5), int64(4), object(7)\n",
      "memory usage: 104.6+ KB\n"
     ]
    }
   ],
   "source": [
    "smart_phone.info()"
   ]
  },
  {
   "cell_type": "code",
   "execution_count": 9,
   "metadata": {},
   "outputs": [
    {
     "data": {
      "text/plain": [
       "brand                 0\n",
       "model                 0\n",
       "colour                5\n",
       "original_price        0\n",
       "discounted_price      0\n",
       "ratings               0\n",
       "rating_count          0\n",
       "reviews               0\n",
       "memory               79\n",
       "storage              16\n",
       "processor           138\n",
       "rear_camera           0\n",
       "front_camera        129\n",
       "display_size          0\n",
       "battery_capacity     58\n",
       "battery_type        359\n",
       "dtype: int64"
      ]
     },
     "execution_count": 9,
     "metadata": {},
     "output_type": "execute_result"
    }
   ],
   "source": [
    "smart_phone.isnull().sum()"
   ]
  },
  {
   "cell_type": "code",
   "execution_count": 10,
   "metadata": {},
   "outputs": [
    {
     "data": {
      "text/plain": [
       "(836, 16)"
      ]
     },
     "execution_count": 10,
     "metadata": {},
     "output_type": "execute_result"
    }
   ],
   "source": [
    "smart_phone.shape"
   ]
  },
  {
   "cell_type": "code",
   "execution_count": 11,
   "metadata": {},
   "outputs": [],
   "source": [
    "import matplotlib.pyplot as plt\n",
    "import seaborn as sns"
   ]
  },
  {
   "cell_type": "code",
   "execution_count": 12,
   "metadata": {},
   "outputs": [],
   "source": [
    "smart_phone_copy = smart_phone"
   ]
  },
  {
   "cell_type": "code",
   "execution_count": 13,
   "metadata": {},
   "outputs": [
    {
     "data": {
      "text/html": [
       "<div>\n",
       "<style scoped>\n",
       "    .dataframe tbody tr th:only-of-type {\n",
       "        vertical-align: middle;\n",
       "    }\n",
       "\n",
       "    .dataframe tbody tr th {\n",
       "        vertical-align: top;\n",
       "    }\n",
       "\n",
       "    .dataframe thead th {\n",
       "        text-align: right;\n",
       "    }\n",
       "</style>\n",
       "<table border=\"1\" class=\"dataframe\">\n",
       "  <thead>\n",
       "    <tr style=\"text-align: right;\">\n",
       "      <th></th>\n",
       "      <th>brand</th>\n",
       "      <th>model</th>\n",
       "      <th>colour</th>\n",
       "      <th>original_price</th>\n",
       "      <th>discounted_price</th>\n",
       "      <th>ratings</th>\n",
       "      <th>rating_count</th>\n",
       "      <th>reviews</th>\n",
       "      <th>memory</th>\n",
       "      <th>storage</th>\n",
       "      <th>processor</th>\n",
       "      <th>rear_camera</th>\n",
       "      <th>front_camera</th>\n",
       "      <th>display_size</th>\n",
       "      <th>battery_capacity</th>\n",
       "      <th>battery_type</th>\n",
       "    </tr>\n",
       "  </thead>\n",
       "  <tbody>\n",
       "    <tr>\n",
       "      <th>0</th>\n",
       "      <td>VIVO</td>\n",
       "      <td>VIVO T1 44W</td>\n",
       "      <td>Starry Sky</td>\n",
       "      <td>19990</td>\n",
       "      <td>14499</td>\n",
       "      <td>4.5</td>\n",
       "      <td>87331</td>\n",
       "      <td>6044</td>\n",
       "      <td>4.0</td>\n",
       "      <td>128.0</td>\n",
       "      <td>Qualcomm Snapdragon 680</td>\n",
       "      <td>50MP + 2MP + 2MP</td>\n",
       "      <td>16MP</td>\n",
       "      <td>16.36</td>\n",
       "      <td>5000.0</td>\n",
       "      <td>Lithium</td>\n",
       "    </tr>\n",
       "    <tr>\n",
       "      <th>1</th>\n",
       "      <td>APPLE</td>\n",
       "      <td>APPLE IPHONE 11</td>\n",
       "      <td>White</td>\n",
       "      <td>48900</td>\n",
       "      <td>47199</td>\n",
       "      <td>4.6</td>\n",
       "      <td>184191</td>\n",
       "      <td>10818</td>\n",
       "      <td>NaN</td>\n",
       "      <td>128.0</td>\n",
       "      <td>A Bionic Chip</td>\n",
       "      <td>12MP + 12MP</td>\n",
       "      <td>12MP</td>\n",
       "      <td>15.49</td>\n",
       "      <td>NaN</td>\n",
       "      <td>NaN</td>\n",
       "    </tr>\n",
       "    <tr>\n",
       "      <th>2</th>\n",
       "      <td>VIVO</td>\n",
       "      <td>VIVO T1 44W</td>\n",
       "      <td>Midnight Galaxy</td>\n",
       "      <td>20990</td>\n",
       "      <td>15999</td>\n",
       "      <td>4.4</td>\n",
       "      <td>51365</td>\n",
       "      <td>3750</td>\n",
       "      <td>6.0</td>\n",
       "      <td>128.0</td>\n",
       "      <td>Qualcomm Snapdragon 680</td>\n",
       "      <td>50MP + 2MP + 2MP</td>\n",
       "      <td>16MP</td>\n",
       "      <td>16.36</td>\n",
       "      <td>5000.0</td>\n",
       "      <td>Lithium</td>\n",
       "    </tr>\n",
       "    <tr>\n",
       "      <th>3</th>\n",
       "      <td>XIAOMI</td>\n",
       "      <td>POCO M4 5G</td>\n",
       "      <td>Power Black</td>\n",
       "      <td>15999</td>\n",
       "      <td>11999</td>\n",
       "      <td>4.2</td>\n",
       "      <td>53448</td>\n",
       "      <td>4185</td>\n",
       "      <td>4.0</td>\n",
       "      <td>64.0</td>\n",
       "      <td>Mediatek Dimensity 700</td>\n",
       "      <td>50MP + 2MP</td>\n",
       "      <td>8MP</td>\n",
       "      <td>16.71</td>\n",
       "      <td>5000.0</td>\n",
       "      <td>Lithium Polymer</td>\n",
       "    </tr>\n",
       "    <tr>\n",
       "      <th>4</th>\n",
       "      <td>XIAOMI</td>\n",
       "      <td>REDMI 10</td>\n",
       "      <td>Caribbean Green</td>\n",
       "      <td>14999</td>\n",
       "      <td>9299</td>\n",
       "      <td>4.3</td>\n",
       "      <td>187787</td>\n",
       "      <td>12084</td>\n",
       "      <td>4.0</td>\n",
       "      <td>64.0</td>\n",
       "      <td>Qualcomm Snapdragon 680</td>\n",
       "      <td>50MP + 2MP</td>\n",
       "      <td>5MP</td>\n",
       "      <td>17.02</td>\n",
       "      <td>6000.0</td>\n",
       "      <td>Lithium Polymer</td>\n",
       "    </tr>\n",
       "  </tbody>\n",
       "</table>\n",
       "</div>"
      ],
      "text/plain": [
       "    brand             model           colour  original_price  \\\n",
       "0    VIVO      VIVO T1 44W        Starry Sky           19990   \n",
       "1   APPLE  APPLE IPHONE 11             White           48900   \n",
       "2    VIVO      VIVO T1 44W   Midnight Galaxy           20990   \n",
       "3  XIAOMI       POCO M4 5G       Power Black           15999   \n",
       "4  XIAOMI         REDMI 10   Caribbean Green           14999   \n",
       "\n",
       "   discounted_price  ratings  rating_count  reviews  memory  storage  \\\n",
       "0             14499      4.5         87331     6044     4.0    128.0   \n",
       "1             47199      4.6        184191    10818     NaN    128.0   \n",
       "2             15999      4.4         51365     3750     6.0    128.0   \n",
       "3             11999      4.2         53448     4185     4.0     64.0   \n",
       "4              9299      4.3        187787    12084     4.0     64.0   \n",
       "\n",
       "                 processor        rear_camera front_camera  display_size  \\\n",
       "0  Qualcomm Snapdragon 680  50MP + 2MP + 2MP          16MP         16.36   \n",
       "1            A Bionic Chip       12MP + 12MP          12MP         15.49   \n",
       "2  Qualcomm Snapdragon 680  50MP + 2MP + 2MP          16MP         16.36   \n",
       "3   Mediatek Dimensity 700        50MP + 2MP           8MP         16.71   \n",
       "4  Qualcomm Snapdragon 680        50MP + 2MP           5MP         17.02   \n",
       "\n",
       "   battery_capacity     battery_type  \n",
       "0            5000.0          Lithium  \n",
       "1               NaN              NaN  \n",
       "2            5000.0          Lithium  \n",
       "3            5000.0  Lithium Polymer  \n",
       "4            6000.0  Lithium Polymer  "
      ]
     },
     "execution_count": 13,
     "metadata": {},
     "output_type": "execute_result"
    }
   ],
   "source": [
    "smart_phone_copy.head()"
   ]
  },
  {
   "cell_type": "code",
   "execution_count": 14,
   "metadata": {},
   "outputs": [
    {
     "data": {
      "text/plain": [
       "Lithium            198\n",
       "Lithium Ion        165\n",
       "Lithium Polymer    114\n",
       "Name: battery_type, dtype: int64"
      ]
     },
     "execution_count": 14,
     "metadata": {},
     "output_type": "execute_result"
    }
   ],
   "source": [
    "smart_phone_copy['battery_type'].value_counts()"
   ]
  },
  {
   "cell_type": "code",
   "execution_count": 15,
   "metadata": {},
   "outputs": [
    {
     "data": {
      "text/plain": [
       "0    Lithium\n",
       "Name: battery_type, dtype: object"
      ]
     },
     "execution_count": 15,
     "metadata": {},
     "output_type": "execute_result"
    }
   ],
   "source": [
    "smart_phone_copy['battery_type'].mode()"
   ]
  },
  {
   "cell_type": "code",
   "execution_count": 16,
   "metadata": {},
   "outputs": [],
   "source": [
    "#smart_phone_copy['battery_capacity'].fillna(smart_phone_copy['battery_capacity'].mode()[0])"
   ]
  },
  {
   "cell_type": "code",
   "execution_count": 17,
   "metadata": {},
   "outputs": [],
   "source": [
    "smart_phone_copy['battery_type'].fillna(smart_phone_copy['battery_type'].mode()[0], inplace = True)"
   ]
  },
  {
   "cell_type": "code",
   "execution_count": 18,
   "metadata": {},
   "outputs": [
    {
     "data": {
      "text/plain": [
       "brand                 0\n",
       "model                 0\n",
       "colour                5\n",
       "original_price        0\n",
       "discounted_price      0\n",
       "ratings               0\n",
       "rating_count          0\n",
       "reviews               0\n",
       "memory               79\n",
       "storage              16\n",
       "processor           138\n",
       "rear_camera           0\n",
       "front_camera        129\n",
       "display_size          0\n",
       "battery_capacity     58\n",
       "battery_type          0\n",
       "dtype: int64"
      ]
     },
     "execution_count": 18,
     "metadata": {},
     "output_type": "execute_result"
    }
   ],
   "source": [
    "smart_phone_copy.isnull().sum()"
   ]
  },
  {
   "cell_type": "code",
   "execution_count": 19,
   "metadata": {},
   "outputs": [
    {
     "data": {
      "text/plain": [
       "4.0    228\n",
       "6.0    203\n",
       "8.0    186\n",
       "2.0     72\n",
       "3.0     63\n",
       "1.0      5\n",
       "Name: memory, dtype: int64"
      ]
     },
     "execution_count": 19,
     "metadata": {},
     "output_type": "execute_result"
    }
   ],
   "source": [
    "smart_phone_copy['memory'].value_counts()"
   ]
  },
  {
   "cell_type": "code",
   "execution_count": 20,
   "metadata": {},
   "outputs": [
    {
     "data": {
      "text/plain": [
       "0    4.0\n",
       "Name: memory, dtype: float64"
      ]
     },
     "execution_count": 20,
     "metadata": {},
     "output_type": "execute_result"
    }
   ],
   "source": [
    "smart_phone_copy['memory'].mode()"
   ]
  },
  {
   "cell_type": "code",
   "execution_count": 21,
   "metadata": {},
   "outputs": [],
   "source": [
    "smart_phone_copy['memory'].fillna(smart_phone_copy['memory'].mode()[0], inplace = True)"
   ]
  },
  {
   "cell_type": "code",
   "execution_count": 22,
   "metadata": {},
   "outputs": [
    {
     "data": {
      "text/plain": [
       "brand                 0\n",
       "model                 0\n",
       "colour                5\n",
       "original_price        0\n",
       "discounted_price      0\n",
       "ratings               0\n",
       "rating_count          0\n",
       "reviews               0\n",
       "memory                0\n",
       "storage              16\n",
       "processor           138\n",
       "rear_camera           0\n",
       "front_camera        129\n",
       "display_size          0\n",
       "battery_capacity     58\n",
       "battery_type          0\n",
       "dtype: int64"
      ]
     },
     "execution_count": 22,
     "metadata": {},
     "output_type": "execute_result"
    }
   ],
   "source": [
    "smart_phone_copy.isnull().sum()"
   ]
  },
  {
   "cell_type": "code",
   "execution_count": 23,
   "metadata": {},
   "outputs": [
    {
     "data": {
      "text/plain": [
       "128.0    397\n",
       "64.0     241\n",
       "32.0     105\n",
       "256.0     59\n",
       "512.0      8\n",
       "16.0       7\n",
       "8.0        3\n",
       "Name: storage, dtype: int64"
      ]
     },
     "execution_count": 23,
     "metadata": {},
     "output_type": "execute_result"
    }
   ],
   "source": [
    "smart_phone_copy['storage'].value_counts()"
   ]
  },
  {
   "cell_type": "code",
   "execution_count": 24,
   "metadata": {},
   "outputs": [],
   "source": [
    "smart_phone_copy['storage'].fillna(smart_phone_copy['storage'].mode()[0], inplace = True)"
   ]
  },
  {
   "cell_type": "code",
   "execution_count": 25,
   "metadata": {},
   "outputs": [
    {
     "data": {
      "text/plain": [
       "brand                 0\n",
       "model                 0\n",
       "colour                5\n",
       "original_price        0\n",
       "discounted_price      0\n",
       "ratings               0\n",
       "rating_count          0\n",
       "reviews               0\n",
       "memory                0\n",
       "storage               0\n",
       "processor           138\n",
       "rear_camera           0\n",
       "front_camera        129\n",
       "display_size          0\n",
       "battery_capacity     58\n",
       "battery_type          0\n",
       "dtype: int64"
      ]
     },
     "execution_count": 25,
     "metadata": {},
     "output_type": "execute_result"
    }
   ],
   "source": [
    "smart_phone_copy.isnull().sum()"
   ]
  },
  {
   "cell_type": "code",
   "execution_count": 26,
   "metadata": {},
   "outputs": [
    {
     "data": {
      "text/plain": [
       "Qualcomm Snapdragon 680       40\n",
       "A Bionic Chip,  Core          31\n",
       "Mediatek Helio P35            22\n",
       "Qualcomm Snapdragon 695 5G    20\n",
       "Unisoc T612                   18\n",
       "                              ..\n",
       "Mediatek MT6769 Helio G70      1\n",
       "Helio A22                      1\n",
       "Turbo Snapdragon 695           1\n",
       "Dimensity 920 5G               1\n",
       "Helio A25                      1\n",
       "Name: processor, Length: 131, dtype: int64"
      ]
     },
     "execution_count": 26,
     "metadata": {},
     "output_type": "execute_result"
    }
   ],
   "source": [
    "smart_phone_copy['processor'].value_counts()"
   ]
  },
  {
   "cell_type": "code",
   "execution_count": 27,
   "metadata": {},
   "outputs": [],
   "source": [
    "smart_phone_copy['processor'].fillna(smart_phone_copy['processor'].mode()[0], inplace = True)"
   ]
  },
  {
   "cell_type": "code",
   "execution_count": 28,
   "metadata": {},
   "outputs": [
    {
     "data": {
      "text/plain": [
       "brand                 0\n",
       "model                 0\n",
       "colour                5\n",
       "original_price        0\n",
       "discounted_price      0\n",
       "ratings               0\n",
       "rating_count          0\n",
       "reviews               0\n",
       "memory                0\n",
       "storage               0\n",
       "processor             0\n",
       "rear_camera           0\n",
       "front_camera        129\n",
       "display_size          0\n",
       "battery_capacity     58\n",
       "battery_type          0\n",
       "dtype: int64"
      ]
     },
     "execution_count": 28,
     "metadata": {},
     "output_type": "execute_result"
    }
   ],
   "source": [
    "smart_phone_copy.isnull().sum()"
   ]
  },
  {
   "cell_type": "code",
   "execution_count": 29,
   "metadata": {},
   "outputs": [
    {
     "data": {
      "text/plain": [
       " 16MP                227\n",
       " 8MP                 162\n",
       " 5MP                 138\n",
       " 12MP                 62\n",
       " 13MP                 33\n",
       " 32MP                 27\n",
       " 20MP                 11\n",
       " 2MP                  10\n",
       " 10MP                  6\n",
       " 16MP + 16MP Dual      4\n",
       " 44MP                  4\n",
       " 50MP                  3\n",
       " 60 MP with OIS        3\n",
       " 32MP + 8MP Dual       3\n",
       " 32MP + 2MP Dual       2\n",
       " 60MP                  2\n",
       " 10.8MP                2\n",
       " 20MP + 2MP Dual       2\n",
       " 16MP + 2MP Dual       1\n",
       " 8MP + 2MP Dual        1\n",
       " 8MP + 8MP Dual        1\n",
       " 50MP + 8MP Dual       1\n",
       " 16MP + 8MP Dual       1\n",
       " 16MP Dual             1\n",
       "Name: front_camera, dtype: int64"
      ]
     },
     "execution_count": 29,
     "metadata": {},
     "output_type": "execute_result"
    }
   ],
   "source": [
    "smart_phone_copy['front_camera'].value_counts()"
   ]
  },
  {
   "cell_type": "code",
   "execution_count": 30,
   "metadata": {},
   "outputs": [],
   "source": [
    "smart_phone_copy['front_camera'].fillna(smart_phone_copy['front_camera'].mode()[0], inplace = True)"
   ]
  },
  {
   "cell_type": "code",
   "execution_count": 31,
   "metadata": {},
   "outputs": [
    {
     "data": {
      "text/plain": [
       "brand                0\n",
       "model                0\n",
       "colour               5\n",
       "original_price       0\n",
       "discounted_price     0\n",
       "ratings              0\n",
       "rating_count         0\n",
       "reviews              0\n",
       "memory               0\n",
       "storage              0\n",
       "processor            0\n",
       "rear_camera          0\n",
       "front_camera         0\n",
       "display_size         0\n",
       "battery_capacity    58\n",
       "battery_type         0\n",
       "dtype: int64"
      ]
     },
     "execution_count": 31,
     "metadata": {},
     "output_type": "execute_result"
    }
   ],
   "source": [
    "smart_phone_copy.isnull().sum()"
   ]
  },
  {
   "cell_type": "code",
   "execution_count": 32,
   "metadata": {},
   "outputs": [
    {
     "data": {
      "text/plain": [
       "5000.0    560\n",
       "6000.0     63\n",
       "4500.0     42\n",
       "4000.0     17\n",
       "4700.0     13\n",
       "4230.0     10\n",
       "3000.0      7\n",
       "4250.0      7\n",
       "5020.0      6\n",
       "4980.0      5\n",
       "4020.0      4\n",
       "4600.0      3\n",
       "3700.0      3\n",
       "3020.0      3\n",
       "4200.0      3\n",
       "7000.0      3\n",
       "5080.0      2\n",
       "3300.0      2\n",
       "4400.0      2\n",
       "4050.0      2\n",
       "4800.0      2\n",
       "4310.0      2\n",
       "4610.0      2\n",
       "4410.0      2\n",
       "4300.0      2\n",
       "4270.0      2\n",
       "5160.0      1\n",
       "4520.0      1\n",
       "5050.0      1\n",
       "5200.0      1\n",
       "1600.0      1\n",
       "4060.0      1\n",
       "5065.0      1\n",
       "3900.0      1\n",
       "2400.0      1\n",
       "Name: battery_capacity, dtype: int64"
      ]
     },
     "execution_count": 32,
     "metadata": {},
     "output_type": "execute_result"
    }
   ],
   "source": [
    "smart_phone_copy['battery_capacity'].value_counts()"
   ]
  },
  {
   "cell_type": "code",
   "execution_count": 33,
   "metadata": {},
   "outputs": [],
   "source": [
    "smart_phone_copy['battery_capacity'].fillna(4500.0, inplace = True)"
   ]
  },
  {
   "cell_type": "code",
   "execution_count": 34,
   "metadata": {},
   "outputs": [
    {
     "data": {
      "text/plain": [
       "brand               0\n",
       "model               0\n",
       "colour              5\n",
       "original_price      0\n",
       "discounted_price    0\n",
       "ratings             0\n",
       "rating_count        0\n",
       "reviews             0\n",
       "memory              0\n",
       "storage             0\n",
       "processor           0\n",
       "rear_camera         0\n",
       "front_camera        0\n",
       "display_size        0\n",
       "battery_capacity    0\n",
       "battery_type        0\n",
       "dtype: int64"
      ]
     },
     "execution_count": 34,
     "metadata": {},
     "output_type": "execute_result"
    }
   ],
   "source": [
    "smart_phone_copy.isnull().sum()"
   ]
  },
  {
   "cell_type": "code",
   "execution_count": 35,
   "metadata": {},
   "outputs": [
    {
     "data": {
      "text/plain": [
       "Black                  22\n",
       "Blue                   18\n",
       "Yellow                 15\n",
       "Midnight Black         14\n",
       "                       11\n",
       "                       ..\n",
       "Orange Shimmer          1\n",
       "Black Engine            1\n",
       "Dark Nova               1\n",
       "Crystal Violet          1\n",
       "Two Shades of Black     1\n",
       "Name: colour, Length: 375, dtype: int64"
      ]
     },
     "execution_count": 35,
     "metadata": {},
     "output_type": "execute_result"
    }
   ],
   "source": [
    "smart_phone_copy['colour'].value_counts()"
   ]
  },
  {
   "cell_type": "code",
   "execution_count": 36,
   "metadata": {},
   "outputs": [],
   "source": [
    "smart_phone_copy['colour'].fillna('Midnight Black', inplace = True)"
   ]
  },
  {
   "cell_type": "code",
   "execution_count": 37,
   "metadata": {},
   "outputs": [
    {
     "data": {
      "text/plain": [
       "Black                  22\n",
       "Midnight Black         19\n",
       "Blue                   18\n",
       "Yellow                 15\n",
       "                       11\n",
       "                       ..\n",
       "Orange Shimmer          1\n",
       "Black Engine            1\n",
       "Dark Nova               1\n",
       "Crystal Violet          1\n",
       "Two Shades of Black     1\n",
       "Name: colour, Length: 375, dtype: int64"
      ]
     },
     "execution_count": 37,
     "metadata": {},
     "output_type": "execute_result"
    }
   ],
   "source": [
    "smart_phone_copy['colour'].value_counts()"
   ]
  },
  {
   "cell_type": "code",
   "execution_count": 38,
   "metadata": {},
   "outputs": [
    {
     "data": {
      "text/plain": [
       "brand               0\n",
       "model               0\n",
       "colour              0\n",
       "original_price      0\n",
       "discounted_price    0\n",
       "ratings             0\n",
       "rating_count        0\n",
       "reviews             0\n",
       "memory              0\n",
       "storage             0\n",
       "processor           0\n",
       "rear_camera         0\n",
       "front_camera        0\n",
       "display_size        0\n",
       "battery_capacity    0\n",
       "battery_type        0\n",
       "dtype: int64"
      ]
     },
     "execution_count": 38,
     "metadata": {},
     "output_type": "execute_result"
    }
   ],
   "source": [
    "smart_phone_copy.isnull().sum()"
   ]
  },
  {
   "cell_type": "code",
   "execution_count": 39,
   "metadata": {},
   "outputs": [
    {
     "data": {
      "text/html": [
       "<div>\n",
       "<style scoped>\n",
       "    .dataframe tbody tr th:only-of-type {\n",
       "        vertical-align: middle;\n",
       "    }\n",
       "\n",
       "    .dataframe tbody tr th {\n",
       "        vertical-align: top;\n",
       "    }\n",
       "\n",
       "    .dataframe thead th {\n",
       "        text-align: right;\n",
       "    }\n",
       "</style>\n",
       "<table border=\"1\" class=\"dataframe\">\n",
       "  <thead>\n",
       "    <tr style=\"text-align: right;\">\n",
       "      <th></th>\n",
       "      <th>brand</th>\n",
       "      <th>model</th>\n",
       "      <th>colour</th>\n",
       "      <th>original_price</th>\n",
       "      <th>discounted_price</th>\n",
       "      <th>ratings</th>\n",
       "      <th>rating_count</th>\n",
       "      <th>reviews</th>\n",
       "      <th>memory</th>\n",
       "      <th>storage</th>\n",
       "      <th>processor</th>\n",
       "      <th>rear_camera</th>\n",
       "      <th>front_camera</th>\n",
       "      <th>display_size</th>\n",
       "      <th>battery_capacity</th>\n",
       "      <th>battery_type</th>\n",
       "    </tr>\n",
       "  </thead>\n",
       "  <tbody>\n",
       "    <tr>\n",
       "      <th>0</th>\n",
       "      <td>VIVO</td>\n",
       "      <td>VIVO T1 44W</td>\n",
       "      <td>Starry Sky</td>\n",
       "      <td>19990</td>\n",
       "      <td>14499</td>\n",
       "      <td>4.5</td>\n",
       "      <td>87331</td>\n",
       "      <td>6044</td>\n",
       "      <td>4.0</td>\n",
       "      <td>128.0</td>\n",
       "      <td>Qualcomm Snapdragon 680</td>\n",
       "      <td>50MP + 2MP + 2MP</td>\n",
       "      <td>16MP</td>\n",
       "      <td>16.36</td>\n",
       "      <td>5000.0</td>\n",
       "      <td>Lithium</td>\n",
       "    </tr>\n",
       "    <tr>\n",
       "      <th>1</th>\n",
       "      <td>APPLE</td>\n",
       "      <td>APPLE IPHONE 11</td>\n",
       "      <td>White</td>\n",
       "      <td>48900</td>\n",
       "      <td>47199</td>\n",
       "      <td>4.6</td>\n",
       "      <td>184191</td>\n",
       "      <td>10818</td>\n",
       "      <td>4.0</td>\n",
       "      <td>128.0</td>\n",
       "      <td>A Bionic Chip</td>\n",
       "      <td>12MP + 12MP</td>\n",
       "      <td>12MP</td>\n",
       "      <td>15.49</td>\n",
       "      <td>4500.0</td>\n",
       "      <td>Lithium</td>\n",
       "    </tr>\n",
       "    <tr>\n",
       "      <th>2</th>\n",
       "      <td>VIVO</td>\n",
       "      <td>VIVO T1 44W</td>\n",
       "      <td>Midnight Galaxy</td>\n",
       "      <td>20990</td>\n",
       "      <td>15999</td>\n",
       "      <td>4.4</td>\n",
       "      <td>51365</td>\n",
       "      <td>3750</td>\n",
       "      <td>6.0</td>\n",
       "      <td>128.0</td>\n",
       "      <td>Qualcomm Snapdragon 680</td>\n",
       "      <td>50MP + 2MP + 2MP</td>\n",
       "      <td>16MP</td>\n",
       "      <td>16.36</td>\n",
       "      <td>5000.0</td>\n",
       "      <td>Lithium</td>\n",
       "    </tr>\n",
       "    <tr>\n",
       "      <th>3</th>\n",
       "      <td>XIAOMI</td>\n",
       "      <td>POCO M4 5G</td>\n",
       "      <td>Power Black</td>\n",
       "      <td>15999</td>\n",
       "      <td>11999</td>\n",
       "      <td>4.2</td>\n",
       "      <td>53448</td>\n",
       "      <td>4185</td>\n",
       "      <td>4.0</td>\n",
       "      <td>64.0</td>\n",
       "      <td>Mediatek Dimensity 700</td>\n",
       "      <td>50MP + 2MP</td>\n",
       "      <td>8MP</td>\n",
       "      <td>16.71</td>\n",
       "      <td>5000.0</td>\n",
       "      <td>Lithium Polymer</td>\n",
       "    </tr>\n",
       "    <tr>\n",
       "      <th>4</th>\n",
       "      <td>XIAOMI</td>\n",
       "      <td>REDMI 10</td>\n",
       "      <td>Caribbean Green</td>\n",
       "      <td>14999</td>\n",
       "      <td>9299</td>\n",
       "      <td>4.3</td>\n",
       "      <td>187787</td>\n",
       "      <td>12084</td>\n",
       "      <td>4.0</td>\n",
       "      <td>64.0</td>\n",
       "      <td>Qualcomm Snapdragon 680</td>\n",
       "      <td>50MP + 2MP</td>\n",
       "      <td>5MP</td>\n",
       "      <td>17.02</td>\n",
       "      <td>6000.0</td>\n",
       "      <td>Lithium Polymer</td>\n",
       "    </tr>\n",
       "  </tbody>\n",
       "</table>\n",
       "</div>"
      ],
      "text/plain": [
       "    brand             model           colour  original_price  \\\n",
       "0    VIVO      VIVO T1 44W        Starry Sky           19990   \n",
       "1   APPLE  APPLE IPHONE 11             White           48900   \n",
       "2    VIVO      VIVO T1 44W   Midnight Galaxy           20990   \n",
       "3  XIAOMI       POCO M4 5G       Power Black           15999   \n",
       "4  XIAOMI         REDMI 10   Caribbean Green           14999   \n",
       "\n",
       "   discounted_price  ratings  rating_count  reviews  memory  storage  \\\n",
       "0             14499      4.5         87331     6044     4.0    128.0   \n",
       "1             47199      4.6        184191    10818     4.0    128.0   \n",
       "2             15999      4.4         51365     3750     6.0    128.0   \n",
       "3             11999      4.2         53448     4185     4.0     64.0   \n",
       "4              9299      4.3        187787    12084     4.0     64.0   \n",
       "\n",
       "                 processor        rear_camera front_camera  display_size  \\\n",
       "0  Qualcomm Snapdragon 680  50MP + 2MP + 2MP          16MP         16.36   \n",
       "1            A Bionic Chip       12MP + 12MP          12MP         15.49   \n",
       "2  Qualcomm Snapdragon 680  50MP + 2MP + 2MP          16MP         16.36   \n",
       "3   Mediatek Dimensity 700        50MP + 2MP           8MP         16.71   \n",
       "4  Qualcomm Snapdragon 680        50MP + 2MP           5MP         17.02   \n",
       "\n",
       "   battery_capacity     battery_type  \n",
       "0            5000.0          Lithium  \n",
       "1            4500.0          Lithium  \n",
       "2            5000.0          Lithium  \n",
       "3            5000.0  Lithium Polymer  \n",
       "4            6000.0  Lithium Polymer  "
      ]
     },
     "execution_count": 39,
     "metadata": {},
     "output_type": "execute_result"
    }
   ],
   "source": [
    "smart_phone_copy.head()"
   ]
  },
  {
   "cell_type": "code",
   "execution_count": 40,
   "metadata": {},
   "outputs": [],
   "source": [
    "x_smartphone_brand = smart_phone_copy['brand'].value_counts().index\n",
    "y_smartphone_brand_value = smart_phone_copy['brand'].value_counts().values"
   ]
  },
  {
   "cell_type": "code",
   "execution_count": 41,
   "metadata": {},
   "outputs": [
    {
     "data": {
      "image/png": "[encoded data removed]",
      "text/plain": [
       "<Figure size 1000x800 with 1 Axes>"
      ]
     },
     "metadata": {},
     "output_type": "display_data"
    }
   ],
   "source": [
    "# Number of smart phone brands listed\n",
    "plt.figure(figsize=(10,8))\n",
    "plt.bar(x = x_smartphone_brand, height = y_smartphone_brand_value)\n",
    "plt.xticks(rotation = 60)\n",
    "plt.xlabel('Smartphone Brands')\n",
    "plt.ylabel('Number of smartphone brands listed')\n",
    "plt.title('Number Of Smartphone Brands Listed on Flipkart')\n",
    "for i in range(len(x_smartphone_brand)):\n",
    "    plt.text(i , y_smartphone_brand_value[i], y_smartphone_brand_value[i], ha = 'center', va = 'bottom')\n",
    "plt.show()"
   ]
  },
  {
   "cell_type": "code",
   "execution_count": 42,
   "metadata": {},
   "outputs": [
    {
     "data": {
      "text/html": [
       "<div>\n",
       "<style scoped>\n",
       "    .dataframe tbody tr th:only-of-type {\n",
       "        vertical-align: middle;\n",
       "    }\n",
       "\n",
       "    .dataframe tbody tr th {\n",
       "        vertical-align: top;\n",
       "    }\n",
       "\n",
       "    .dataframe thead th {\n",
       "        text-align: right;\n",
       "    }\n",
       "</style>\n",
       "<table border=\"1\" class=\"dataframe\">\n",
       "  <thead>\n",
       "    <tr style=\"text-align: right;\">\n",
       "      <th></th>\n",
       "      <th>brand</th>\n",
       "      <th>model</th>\n",
       "      <th>colour</th>\n",
       "      <th>original_price</th>\n",
       "      <th>discounted_price</th>\n",
       "      <th>ratings</th>\n",
       "      <th>rating_count</th>\n",
       "      <th>reviews</th>\n",
       "      <th>memory</th>\n",
       "      <th>storage</th>\n",
       "      <th>processor</th>\n",
       "      <th>rear_camera</th>\n",
       "      <th>front_camera</th>\n",
       "      <th>display_size</th>\n",
       "      <th>battery_capacity</th>\n",
       "      <th>battery_type</th>\n",
       "    </tr>\n",
       "  </thead>\n",
       "  <tbody>\n",
       "    <tr>\n",
       "      <th>0</th>\n",
       "      <td>VIVO</td>\n",
       "      <td>VIVO T1 44W</td>\n",
       "      <td>Starry Sky</td>\n",
       "      <td>19990</td>\n",
       "      <td>14499</td>\n",
       "      <td>4.5</td>\n",
       "      <td>87331</td>\n",
       "      <td>6044</td>\n",
       "      <td>4.0</td>\n",
       "      <td>128.0</td>\n",
       "      <td>Qualcomm Snapdragon 680</td>\n",
       "      <td>50MP + 2MP + 2MP</td>\n",
       "      <td>16MP</td>\n",
       "      <td>16.36</td>\n",
       "      <td>5000.0</td>\n",
       "      <td>Lithium</td>\n",
       "    </tr>\n",
       "    <tr>\n",
       "      <th>1</th>\n",
       "      <td>APPLE</td>\n",
       "      <td>APPLE IPHONE 11</td>\n",
       "      <td>White</td>\n",
       "      <td>48900</td>\n",
       "      <td>47199</td>\n",
       "      <td>4.6</td>\n",
       "      <td>184191</td>\n",
       "      <td>10818</td>\n",
       "      <td>4.0</td>\n",
       "      <td>128.0</td>\n",
       "      <td>A Bionic Chip</td>\n",
       "      <td>12MP + 12MP</td>\n",
       "      <td>12MP</td>\n",
       "      <td>15.49</td>\n",
       "      <td>4500.0</td>\n",
       "      <td>Lithium</td>\n",
       "    </tr>\n",
       "    <tr>\n",
       "      <th>2</th>\n",
       "      <td>VIVO</td>\n",
       "      <td>VIVO T1 44W</td>\n",
       "      <td>Midnight Galaxy</td>\n",
       "      <td>20990</td>\n",
       "      <td>15999</td>\n",
       "      <td>4.4</td>\n",
       "      <td>51365</td>\n",
       "      <td>3750</td>\n",
       "      <td>6.0</td>\n",
       "      <td>128.0</td>\n",
       "      <td>Qualcomm Snapdragon 680</td>\n",
       "      <td>50MP + 2MP + 2MP</td>\n",
       "      <td>16MP</td>\n",
       "      <td>16.36</td>\n",
       "      <td>5000.0</td>\n",
       "      <td>Lithium</td>\n",
       "    </tr>\n",
       "    <tr>\n",
       "      <th>3</th>\n",
       "      <td>XIAOMI</td>\n",
       "      <td>POCO M4 5G</td>\n",
       "      <td>Power Black</td>\n",
       "      <td>15999</td>\n",
       "      <td>11999</td>\n",
       "      <td>4.2</td>\n",
       "      <td>53448</td>\n",
       "      <td>4185</td>\n",
       "      <td>4.0</td>\n",
       "      <td>64.0</td>\n",
       "      <td>Mediatek Dimensity 700</td>\n",
       "      <td>50MP + 2MP</td>\n",
       "      <td>8MP</td>\n",
       "      <td>16.71</td>\n",
       "      <td>5000.0</td>\n",
       "      <td>Lithium Polymer</td>\n",
       "    </tr>\n",
       "    <tr>\n",
       "      <th>4</th>\n",
       "      <td>XIAOMI</td>\n",
       "      <td>REDMI 10</td>\n",
       "      <td>Caribbean Green</td>\n",
       "      <td>14999</td>\n",
       "      <td>9299</td>\n",
       "      <td>4.3</td>\n",
       "      <td>187787</td>\n",
       "      <td>12084</td>\n",
       "      <td>4.0</td>\n",
       "      <td>64.0</td>\n",
       "      <td>Qualcomm Snapdragon 680</td>\n",
       "      <td>50MP + 2MP</td>\n",
       "      <td>5MP</td>\n",
       "      <td>17.02</td>\n",
       "      <td>6000.0</td>\n",
       "      <td>Lithium Polymer</td>\n",
       "    </tr>\n",
       "  </tbody>\n",
       "</table>\n",
       "</div>"
      ],
      "text/plain": [
       "    brand             model           colour  original_price  \\\n",
       "0    VIVO      VIVO T1 44W        Starry Sky           19990   \n",
       "1   APPLE  APPLE IPHONE 11             White           48900   \n",
       "2    VIVO      VIVO T1 44W   Midnight Galaxy           20990   \n",
       "3  XIAOMI       POCO M4 5G       Power Black           15999   \n",
       "4  XIAOMI         REDMI 10   Caribbean Green           14999   \n",
       "\n",
       "   discounted_price  ratings  rating_count  reviews  memory  storage  \\\n",
       "0             14499      4.5         87331     6044     4.0    128.0   \n",
       "1             47199      4.6        184191    10818     4.0    128.0   \n",
       "2             15999      4.4         51365     3750     6.0    128.0   \n",
       "3             11999      4.2         53448     4185     4.0     64.0   \n",
       "4              9299      4.3        187787    12084     4.0     64.0   \n",
       "\n",
       "                 processor        rear_camera front_camera  display_size  \\\n",
       "0  Qualcomm Snapdragon 680  50MP + 2MP + 2MP          16MP         16.36   \n",
       "1            A Bionic Chip       12MP + 12MP          12MP         15.49   \n",
       "2  Qualcomm Snapdragon 680  50MP + 2MP + 2MP          16MP         16.36   \n",
       "3   Mediatek Dimensity 700        50MP + 2MP           8MP         16.71   \n",
       "4  Qualcomm Snapdragon 680        50MP + 2MP           5MP         17.02   \n",
       "\n",
       "   battery_capacity     battery_type  \n",
       "0            5000.0          Lithium  \n",
       "1            4500.0          Lithium  \n",
       "2            5000.0          Lithium  \n",
       "3            5000.0  Lithium Polymer  \n",
       "4            6000.0  Lithium Polymer  "
      ]
     },
     "execution_count": 42,
     "metadata": {},
     "output_type": "execute_result"
    }
   ],
   "source": [
    "smart_phone_copy.head()"
   ]
  },
  {
   "cell_type": "code",
   "execution_count": 43,
   "metadata": {},
   "outputs": [],
   "source": [
    "smart_phone_copy['Discount_Given'] = smart_phone_copy['original_price'] - smart_phone_copy['discounted_price']"
   ]
  },
  {
   "cell_type": "code",
   "execution_count": 44,
   "metadata": {},
   "outputs": [
    {
     "data": {
      "text/html": [
       "<div>\n",
       "<style scoped>\n",
       "    .dataframe tbody tr th:only-of-type {\n",
       "        vertical-align: middle;\n",
       "    }\n",
       "\n",
       "    .dataframe tbody tr th {\n",
       "        vertical-align: top;\n",
       "    }\n",
       "\n",
       "    .dataframe thead th {\n",
       "        text-align: right;\n",
       "    }\n",
       "</style>\n",
       "<table border=\"1\" class=\"dataframe\">\n",
       "  <thead>\n",
       "    <tr style=\"text-align: right;\">\n",
       "      <th></th>\n",
       "      <th>brand</th>\n",
       "      <th>model</th>\n",
       "      <th>colour</th>\n",
       "      <th>original_price</th>\n",
       "      <th>discounted_price</th>\n",
       "      <th>ratings</th>\n",
       "      <th>rating_count</th>\n",
       "      <th>reviews</th>\n",
       "      <th>memory</th>\n",
       "      <th>storage</th>\n",
       "      <th>processor</th>\n",
       "      <th>rear_camera</th>\n",
       "      <th>front_camera</th>\n",
       "      <th>display_size</th>\n",
       "      <th>battery_capacity</th>\n",
       "      <th>battery_type</th>\n",
       "      <th>Discount_Given</th>\n",
       "    </tr>\n",
       "  </thead>\n",
       "  <tbody>\n",
       "    <tr>\n",
       "      <th>0</th>\n",
       "      <td>VIVO</td>\n",
       "      <td>VIVO T1 44W</td>\n",
       "      <td>Starry Sky</td>\n",
       "      <td>19990</td>\n",
       "      <td>14499</td>\n",
       "      <td>4.5</td>\n",
       "      <td>87331</td>\n",
       "      <td>6044</td>\n",
       "      <td>4.0</td>\n",
       "      <td>128.0</td>\n",
       "      <td>Qualcomm Snapdragon 680</td>\n",
       "      <td>50MP + 2MP + 2MP</td>\n",
       "      <td>16MP</td>\n",
       "      <td>16.36</td>\n",
       "      <td>5000.0</td>\n",
       "      <td>Lithium</td>\n",
       "      <td>5491</td>\n",
       "    </tr>\n",
       "    <tr>\n",
       "      <th>1</th>\n",
       "      <td>APPLE</td>\n",
       "      <td>APPLE IPHONE 11</td>\n",
       "      <td>White</td>\n",
       "      <td>48900</td>\n",
       "      <td>47199</td>\n",
       "      <td>4.6</td>\n",
       "      <td>184191</td>\n",
       "      <td>10818</td>\n",
       "      <td>4.0</td>\n",
       "      <td>128.0</td>\n",
       "      <td>A Bionic Chip</td>\n",
       "      <td>12MP + 12MP</td>\n",
       "      <td>12MP</td>\n",
       "      <td>15.49</td>\n",
       "      <td>4500.0</td>\n",
       "      <td>Lithium</td>\n",
       "      <td>1701</td>\n",
       "    </tr>\n",
       "    <tr>\n",
       "      <th>2</th>\n",
       "      <td>VIVO</td>\n",
       "      <td>VIVO T1 44W</td>\n",
       "      <td>Midnight Galaxy</td>\n",
       "      <td>20990</td>\n",
       "      <td>15999</td>\n",
       "      <td>4.4</td>\n",
       "      <td>51365</td>\n",
       "      <td>3750</td>\n",
       "      <td>6.0</td>\n",
       "      <td>128.0</td>\n",
       "      <td>Qualcomm Snapdragon 680</td>\n",
       "      <td>50MP + 2MP + 2MP</td>\n",
       "      <td>16MP</td>\n",
       "      <td>16.36</td>\n",
       "      <td>5000.0</td>\n",
       "      <td>Lithium</td>\n",
       "      <td>4991</td>\n",
       "    </tr>\n",
       "    <tr>\n",
       "      <th>3</th>\n",
       "      <td>XIAOMI</td>\n",
       "      <td>POCO M4 5G</td>\n",
       "      <td>Power Black</td>\n",
       "      <td>15999</td>\n",
       "      <td>11999</td>\n",
       "      <td>4.2</td>\n",
       "      <td>53448</td>\n",
       "      <td>4185</td>\n",
       "      <td>4.0</td>\n",
       "      <td>64.0</td>\n",
       "      <td>Mediatek Dimensity 700</td>\n",
       "      <td>50MP + 2MP</td>\n",
       "      <td>8MP</td>\n",
       "      <td>16.71</td>\n",
       "      <td>5000.0</td>\n",
       "      <td>Lithium Polymer</td>\n",
       "      <td>4000</td>\n",
       "    </tr>\n",
       "    <tr>\n",
       "      <th>4</th>\n",
       "      <td>XIAOMI</td>\n",
       "      <td>REDMI 10</td>\n",
       "      <td>Caribbean Green</td>\n",
       "      <td>14999</td>\n",
       "      <td>9299</td>\n",
       "      <td>4.3</td>\n",
       "      <td>187787</td>\n",
       "      <td>12084</td>\n",
       "      <td>4.0</td>\n",
       "      <td>64.0</td>\n",
       "      <td>Qualcomm Snapdragon 680</td>\n",
       "      <td>50MP + 2MP</td>\n",
       "      <td>5MP</td>\n",
       "      <td>17.02</td>\n",
       "      <td>6000.0</td>\n",
       "      <td>Lithium Polymer</td>\n",
       "      <td>5700</td>\n",
       "    </tr>\n",
       "  </tbody>\n",
       "</table>\n",
       "</div>"
      ],
      "text/plain": [
       "    brand             model           colour  original_price  \\\n",
       "0    VIVO      VIVO T1 44W        Starry Sky           19990   \n",
       "1   APPLE  APPLE IPHONE 11             White           48900   \n",
       "2    VIVO      VIVO T1 44W   Midnight Galaxy           20990   \n",
       "3  XIAOMI       POCO M4 5G       Power Black           15999   \n",
       "4  XIAOMI         REDMI 10   Caribbean Green           14999   \n",
       "\n",
       "   discounted_price  ratings  rating_count  reviews  memory  storage  \\\n",
       "0             14499      4.5         87331     6044     4.0    128.0   \n",
       "1             47199      4.6        184191    10818     4.0    128.0   \n",
       "2             15999      4.4         51365     3750     6.0    128.0   \n",
       "3             11999      4.2         53448     4185     4.0     64.0   \n",
       "4              9299      4.3        187787    12084     4.0     64.0   \n",
       "\n",
       "                 processor        rear_camera front_camera  display_size  \\\n",
       "0  Qualcomm Snapdragon 680  50MP + 2MP + 2MP          16MP         16.36   \n",
       "1            A Bionic Chip       12MP + 12MP          12MP         15.49   \n",
       "2  Qualcomm Snapdragon 680  50MP + 2MP + 2MP          16MP         16.36   \n",
       "3   Mediatek Dimensity 700        50MP + 2MP           8MP         16.71   \n",
       "4  Qualcomm Snapdragon 680        50MP + 2MP           5MP         17.02   \n",
       "\n",
       "   battery_capacity     battery_type  Discount_Given  \n",
       "0            5000.0          Lithium            5491  \n",
       "1            4500.0          Lithium            1701  \n",
       "2            5000.0          Lithium            4991  \n",
       "3            5000.0  Lithium Polymer            4000  \n",
       "4            6000.0  Lithium Polymer            5700  "
      ]
     },
     "execution_count": 44,
     "metadata": {},
     "output_type": "execute_result"
    }
   ],
   "source": [
    "smart_phone_copy.head()"
   ]
  },
  {
   "cell_type": "code",
   "execution_count": 45,
   "metadata": {},
   "outputs": [
    {
     "data": {
      "text/html": [
       "<div>\n",
       "<style scoped>\n",
       "    .dataframe tbody tr th:only-of-type {\n",
       "        vertical-align: middle;\n",
       "    }\n",
       "\n",
       "    .dataframe tbody tr th {\n",
       "        vertical-align: top;\n",
       "    }\n",
       "\n",
       "    .dataframe thead th {\n",
       "        text-align: right;\n",
       "    }\n",
       "</style>\n",
       "<table border=\"1\" class=\"dataframe\">\n",
       "  <thead>\n",
       "    <tr style=\"text-align: right;\">\n",
       "      <th></th>\n",
       "      <th>brand</th>\n",
       "      <th>model</th>\n",
       "      <th>colour</th>\n",
       "      <th>original_price</th>\n",
       "      <th>discounted_price</th>\n",
       "      <th>ratings</th>\n",
       "      <th>rating_count</th>\n",
       "      <th>reviews</th>\n",
       "      <th>memory</th>\n",
       "      <th>storage</th>\n",
       "      <th>processor</th>\n",
       "      <th>rear_camera</th>\n",
       "      <th>front_camera</th>\n",
       "      <th>display_size</th>\n",
       "      <th>battery_capacity</th>\n",
       "      <th>battery_type</th>\n",
       "      <th>Discount_Given</th>\n",
       "    </tr>\n",
       "  </thead>\n",
       "  <tbody>\n",
       "  </tbody>\n",
       "</table>\n",
       "</div>"
      ],
      "text/plain": [
       "Empty DataFrame\n",
       "Columns: [brand, model, colour, original_price, discounted_price, ratings, rating_count, reviews, memory, storage, processor, rear_camera, front_camera, display_size, battery_capacity, battery_type, Discount_Given]\n",
       "Index: []"
      ]
     },
     "execution_count": 45,
     "metadata": {},
     "output_type": "execute_result"
    }
   ],
   "source": [
    "smart_phone_copy[smart_phone_copy['model'] == 'APPLE IPHONE 11']"
   ]
  },
  {
   "cell_type": "code",
   "execution_count": 46,
   "metadata": {},
   "outputs": [
    {
     "data": {
      "text/plain": [
       "model\n",
       "APPLE IPHONE 11                  7\n",
       "APPLE IPHONE 12                  8\n",
       "APPLE IPHONE 12 MINI             3\n",
       "APPLE IPHONE 13                  8\n",
       "APPLE IPHONE 13 PRO              1\n",
       "                                ..\n",
       "VIVO Y75                         1\n",
       "XIAOMI 11I 5G                    1\n",
       "XIAOMI 11LITE NE                 5\n",
       "XIAOMI 11T PRO 5G HYPERPHONE     1\n",
       "XIAOMI 12 PRO 5G                 3\n",
       "Name: brand, Length: 304, dtype: int64"
      ]
     },
     "execution_count": 46,
     "metadata": {},
     "output_type": "execute_result"
    }
   ],
   "source": [
    "smart_phone_copy.groupby('model')['brand'].count()"
   ]
  },
  {
   "cell_type": "code",
   "execution_count": 47,
   "metadata": {},
   "outputs": [
    {
     "data": {
      "image/png": "[encoded data removed]",
      "text/plain": [
       "<Figure size 1000x500 with 1 Axes>"
      ]
     },
     "metadata": {},
     "output_type": "display_data"
    }
   ],
   "source": [
    "x_phone = smart_phone_copy.groupby('model')['ratings'].max().index[:10]\n",
    "y_phone_rating = smart_phone_copy.groupby('model')['ratings'].max().values[:10]\n",
    "\n",
    "plt.figure(figsize=(10,5))\n",
    "plt.bar(x = x_phone, height = y_phone_rating)\n",
    "plt.xticks(rotation = 60)\n",
    "for i in range(len(x_phone)):\n",
    "    plt.text(i, y_phone_rating[i], y_phone_rating[i], ha = 'center', va = 'bottom')\n",
    "plt.show()"
   ]
  },
  {
   "cell_type": "code",
   "execution_count": 48,
   "metadata": {},
   "outputs": [
    {
     "data": {
      "text/html": [
       "<div>\n",
       "<style scoped>\n",
       "    .dataframe tbody tr th:only-of-type {\n",
       "        vertical-align: middle;\n",
       "    }\n",
       "\n",
       "    .dataframe tbody tr th {\n",
       "        vertical-align: top;\n",
       "    }\n",
       "\n",
       "    .dataframe thead th {\n",
       "        text-align: right;\n",
       "    }\n",
       "</style>\n",
       "<table border=\"1\" class=\"dataframe\">\n",
       "  <thead>\n",
       "    <tr style=\"text-align: right;\">\n",
       "      <th></th>\n",
       "      <th>brand</th>\n",
       "      <th>model</th>\n",
       "      <th>colour</th>\n",
       "      <th>original_price</th>\n",
       "      <th>discounted_price</th>\n",
       "      <th>ratings</th>\n",
       "      <th>rating_count</th>\n",
       "      <th>reviews</th>\n",
       "      <th>memory</th>\n",
       "      <th>storage</th>\n",
       "      <th>processor</th>\n",
       "      <th>rear_camera</th>\n",
       "      <th>front_camera</th>\n",
       "      <th>display_size</th>\n",
       "      <th>battery_capacity</th>\n",
       "      <th>battery_type</th>\n",
       "      <th>Discount_Given</th>\n",
       "    </tr>\n",
       "  </thead>\n",
       "  <tbody>\n",
       "    <tr>\n",
       "      <th>0</th>\n",
       "      <td>VIVO</td>\n",
       "      <td>VIVO T1 44W</td>\n",
       "      <td>Starry Sky</td>\n",
       "      <td>19990</td>\n",
       "      <td>14499</td>\n",
       "      <td>4.5</td>\n",
       "      <td>87331</td>\n",
       "      <td>6044</td>\n",
       "      <td>4.0</td>\n",
       "      <td>128.0</td>\n",
       "      <td>Qualcomm Snapdragon 680</td>\n",
       "      <td>50MP + 2MP + 2MP</td>\n",
       "      <td>16MP</td>\n",
       "      <td>16.36</td>\n",
       "      <td>5000.0</td>\n",
       "      <td>Lithium</td>\n",
       "      <td>5491</td>\n",
       "    </tr>\n",
       "    <tr>\n",
       "      <th>1</th>\n",
       "      <td>APPLE</td>\n",
       "      <td>APPLE IPHONE 11</td>\n",
       "      <td>White</td>\n",
       "      <td>48900</td>\n",
       "      <td>47199</td>\n",
       "      <td>4.6</td>\n",
       "      <td>184191</td>\n",
       "      <td>10818</td>\n",
       "      <td>4.0</td>\n",
       "      <td>128.0</td>\n",
       "      <td>A Bionic Chip</td>\n",
       "      <td>12MP + 12MP</td>\n",
       "      <td>12MP</td>\n",
       "      <td>15.49</td>\n",
       "      <td>4500.0</td>\n",
       "      <td>Lithium</td>\n",
       "      <td>1701</td>\n",
       "    </tr>\n",
       "    <tr>\n",
       "      <th>2</th>\n",
       "      <td>VIVO</td>\n",
       "      <td>VIVO T1 44W</td>\n",
       "      <td>Midnight Galaxy</td>\n",
       "      <td>20990</td>\n",
       "      <td>15999</td>\n",
       "      <td>4.4</td>\n",
       "      <td>51365</td>\n",
       "      <td>3750</td>\n",
       "      <td>6.0</td>\n",
       "      <td>128.0</td>\n",
       "      <td>Qualcomm Snapdragon 680</td>\n",
       "      <td>50MP + 2MP + 2MP</td>\n",
       "      <td>16MP</td>\n",
       "      <td>16.36</td>\n",
       "      <td>5000.0</td>\n",
       "      <td>Lithium</td>\n",
       "      <td>4991</td>\n",
       "    </tr>\n",
       "    <tr>\n",
       "      <th>3</th>\n",
       "      <td>XIAOMI</td>\n",
       "      <td>POCO M4 5G</td>\n",
       "      <td>Power Black</td>\n",
       "      <td>15999</td>\n",
       "      <td>11999</td>\n",
       "      <td>4.2</td>\n",
       "      <td>53448</td>\n",
       "      <td>4185</td>\n",
       "      <td>4.0</td>\n",
       "      <td>64.0</td>\n",
       "      <td>Mediatek Dimensity 700</td>\n",
       "      <td>50MP + 2MP</td>\n",
       "      <td>8MP</td>\n",
       "      <td>16.71</td>\n",
       "      <td>5000.0</td>\n",
       "      <td>Lithium Polymer</td>\n",
       "      <td>4000</td>\n",
       "    </tr>\n",
       "    <tr>\n",
       "      <th>4</th>\n",
       "      <td>XIAOMI</td>\n",
       "      <td>REDMI 10</td>\n",
       "      <td>Caribbean Green</td>\n",
       "      <td>14999</td>\n",
       "      <td>9299</td>\n",
       "      <td>4.3</td>\n",
       "      <td>187787</td>\n",
       "      <td>12084</td>\n",
       "      <td>4.0</td>\n",
       "      <td>64.0</td>\n",
       "      <td>Qualcomm Snapdragon 680</td>\n",
       "      <td>50MP + 2MP</td>\n",
       "      <td>5MP</td>\n",
       "      <td>17.02</td>\n",
       "      <td>6000.0</td>\n",
       "      <td>Lithium Polymer</td>\n",
       "      <td>5700</td>\n",
       "    </tr>\n",
       "  </tbody>\n",
       "</table>\n",
       "</div>"
      ],
      "text/plain": [
       "    brand             model           colour  original_price  \\\n",
       "0    VIVO      VIVO T1 44W        Starry Sky           19990   \n",
       "1   APPLE  APPLE IPHONE 11             White           48900   \n",
       "2    VIVO      VIVO T1 44W   Midnight Galaxy           20990   \n",
       "3  XIAOMI       POCO M4 5G       Power Black           15999   \n",
       "4  XIAOMI         REDMI 10   Caribbean Green           14999   \n",
       "\n",
       "   discounted_price  ratings  rating_count  reviews  memory  storage  \\\n",
       "0             14499      4.5         87331     6044     4.0    128.0   \n",
       "1             47199      4.6        184191    10818     4.0    128.0   \n",
       "2             15999      4.4         51365     3750     6.0    128.0   \n",
       "3             11999      4.2         53448     4185     4.0     64.0   \n",
       "4              9299      4.3        187787    12084     4.0     64.0   \n",
       "\n",
       "                 processor        rear_camera front_camera  display_size  \\\n",
       "0  Qualcomm Snapdragon 680  50MP + 2MP + 2MP          16MP         16.36   \n",
       "1            A Bionic Chip       12MP + 12MP          12MP         15.49   \n",
       "2  Qualcomm Snapdragon 680  50MP + 2MP + 2MP          16MP         16.36   \n",
       "3   Mediatek Dimensity 700        50MP + 2MP           8MP         16.71   \n",
       "4  Qualcomm Snapdragon 680        50MP + 2MP           5MP         17.02   \n",
       "\n",
       "   battery_capacity     battery_type  Discount_Given  \n",
       "0            5000.0          Lithium            5491  \n",
       "1            4500.0          Lithium            1701  \n",
       "2            5000.0          Lithium            4991  \n",
       "3            5000.0  Lithium Polymer            4000  \n",
       "4            6000.0  Lithium Polymer            5700  "
      ]
     },
     "execution_count": 48,
     "metadata": {},
     "output_type": "execute_result"
    }
   ],
   "source": [
    "smart_phone_copy.head()"
   ]
  },
  {
   "cell_type": "code",
   "execution_count": 49,
   "metadata": {},
   "outputs": [
    {
     "data": {
      "image/png": "[encoded data removed]",
      "text/plain": [
       "<Figure size 1200x500 with 1 Axes>"
      ]
     },
     "metadata": {},
     "output_type": "display_data"
    }
   ],
   "source": [
    "x = smart_phone_copy['battery_capacity'].value_counts().index[:5]\n",
    "y = smart_phone_copy['battery_capacity'].value_counts().values[:5]\n",
    "\n",
    "plt.figure(figsize=(12,5))\n",
    "plt.pie(y, labels = x, autopct = '%1.2f%%')\n",
    "plt.title(\"Percentage of SmartPhones with Top 5 Battery Capacities\")\n",
    "plt.legend(loc = 'upper right')\n",
    "plt.show()"
   ]
  },
  {
   "cell_type": "code",
   "execution_count": 50,
   "metadata": {},
   "outputs": [
    {
     "data": {
      "text/html": [
       "<div>\n",
       "<style scoped>\n",
       "    .dataframe tbody tr th:only-of-type {\n",
       "        vertical-align: middle;\n",
       "    }\n",
       "\n",
       "    .dataframe tbody tr th {\n",
       "        vertical-align: top;\n",
       "    }\n",
       "\n",
       "    .dataframe thead th {\n",
       "        text-align: right;\n",
       "    }\n",
       "</style>\n",
       "<table border=\"1\" class=\"dataframe\">\n",
       "  <thead>\n",
       "    <tr style=\"text-align: right;\">\n",
       "      <th></th>\n",
       "      <th>brand</th>\n",
       "      <th>model</th>\n",
       "      <th>colour</th>\n",
       "      <th>original_price</th>\n",
       "      <th>discounted_price</th>\n",
       "      <th>ratings</th>\n",
       "      <th>rating_count</th>\n",
       "      <th>reviews</th>\n",
       "      <th>memory</th>\n",
       "      <th>storage</th>\n",
       "      <th>processor</th>\n",
       "      <th>rear_camera</th>\n",
       "      <th>front_camera</th>\n",
       "      <th>display_size</th>\n",
       "      <th>battery_capacity</th>\n",
       "      <th>battery_type</th>\n",
       "      <th>Discount_Given</th>\n",
       "    </tr>\n",
       "  </thead>\n",
       "  <tbody>\n",
       "    <tr>\n",
       "      <th>0</th>\n",
       "      <td>VIVO</td>\n",
       "      <td>VIVO T1 44W</td>\n",
       "      <td>Starry Sky</td>\n",
       "      <td>19990</td>\n",
       "      <td>14499</td>\n",
       "      <td>4.5</td>\n",
       "      <td>87331</td>\n",
       "      <td>6044</td>\n",
       "      <td>4.0</td>\n",
       "      <td>128.0</td>\n",
       "      <td>Qualcomm Snapdragon 680</td>\n",
       "      <td>50MP + 2MP + 2MP</td>\n",
       "      <td>16MP</td>\n",
       "      <td>16.36</td>\n",
       "      <td>5000.0</td>\n",
       "      <td>Lithium</td>\n",
       "      <td>5491</td>\n",
       "    </tr>\n",
       "    <tr>\n",
       "      <th>1</th>\n",
       "      <td>APPLE</td>\n",
       "      <td>APPLE IPHONE 11</td>\n",
       "      <td>White</td>\n",
       "      <td>48900</td>\n",
       "      <td>47199</td>\n",
       "      <td>4.6</td>\n",
       "      <td>184191</td>\n",
       "      <td>10818</td>\n",
       "      <td>4.0</td>\n",
       "      <td>128.0</td>\n",
       "      <td>A Bionic Chip</td>\n",
       "      <td>12MP + 12MP</td>\n",
       "      <td>12MP</td>\n",
       "      <td>15.49</td>\n",
       "      <td>4500.0</td>\n",
       "      <td>Lithium</td>\n",
       "      <td>1701</td>\n",
       "    </tr>\n",
       "    <tr>\n",
       "      <th>2</th>\n",
       "      <td>VIVO</td>\n",
       "      <td>VIVO T1 44W</td>\n",
       "      <td>Midnight Galaxy</td>\n",
       "      <td>20990</td>\n",
       "      <td>15999</td>\n",
       "      <td>4.4</td>\n",
       "      <td>51365</td>\n",
       "      <td>3750</td>\n",
       "      <td>6.0</td>\n",
       "      <td>128.0</td>\n",
       "      <td>Qualcomm Snapdragon 680</td>\n",
       "      <td>50MP + 2MP + 2MP</td>\n",
       "      <td>16MP</td>\n",
       "      <td>16.36</td>\n",
       "      <td>5000.0</td>\n",
       "      <td>Lithium</td>\n",
       "      <td>4991</td>\n",
       "    </tr>\n",
       "    <tr>\n",
       "      <th>3</th>\n",
       "      <td>XIAOMI</td>\n",
       "      <td>POCO M4 5G</td>\n",
       "      <td>Power Black</td>\n",
       "      <td>15999</td>\n",
       "      <td>11999</td>\n",
       "      <td>4.2</td>\n",
       "      <td>53448</td>\n",
       "      <td>4185</td>\n",
       "      <td>4.0</td>\n",
       "      <td>64.0</td>\n",
       "      <td>Mediatek Dimensity 700</td>\n",
       "      <td>50MP + 2MP</td>\n",
       "      <td>8MP</td>\n",
       "      <td>16.71</td>\n",
       "      <td>5000.0</td>\n",
       "      <td>Lithium Polymer</td>\n",
       "      <td>4000</td>\n",
       "    </tr>\n",
       "    <tr>\n",
       "      <th>4</th>\n",
       "      <td>XIAOMI</td>\n",
       "      <td>REDMI 10</td>\n",
       "      <td>Caribbean Green</td>\n",
       "      <td>14999</td>\n",
       "      <td>9299</td>\n",
       "      <td>4.3</td>\n",
       "      <td>187787</td>\n",
       "      <td>12084</td>\n",
       "      <td>4.0</td>\n",
       "      <td>64.0</td>\n",
       "      <td>Qualcomm Snapdragon 680</td>\n",
       "      <td>50MP + 2MP</td>\n",
       "      <td>5MP</td>\n",
       "      <td>17.02</td>\n",
       "      <td>6000.0</td>\n",
       "      <td>Lithium Polymer</td>\n",
       "      <td>5700</td>\n",
       "    </tr>\n",
       "  </tbody>\n",
       "</table>\n",
       "</div>"
      ],
      "text/plain": [
       "    brand             model           colour  original_price  \\\n",
       "0    VIVO      VIVO T1 44W        Starry Sky           19990   \n",
       "1   APPLE  APPLE IPHONE 11             White           48900   \n",
       "2    VIVO      VIVO T1 44W   Midnight Galaxy           20990   \n",
       "3  XIAOMI       POCO M4 5G       Power Black           15999   \n",
       "4  XIAOMI         REDMI 10   Caribbean Green           14999   \n",
       "\n",
       "   discounted_price  ratings  rating_count  reviews  memory  storage  \\\n",
       "0             14499      4.5         87331     6044     4.0    128.0   \n",
       "1             47199      4.6        184191    10818     4.0    128.0   \n",
       "2             15999      4.4         51365     3750     6.0    128.0   \n",
       "3             11999      4.2         53448     4185     4.0     64.0   \n",
       "4              9299      4.3        187787    12084     4.0     64.0   \n",
       "\n",
       "                 processor        rear_camera front_camera  display_size  \\\n",
       "0  Qualcomm Snapdragon 680  50MP + 2MP + 2MP          16MP         16.36   \n",
       "1            A Bionic Chip       12MP + 12MP          12MP         15.49   \n",
       "2  Qualcomm Snapdragon 680  50MP + 2MP + 2MP          16MP         16.36   \n",
       "3   Mediatek Dimensity 700        50MP + 2MP           8MP         16.71   \n",
       "4  Qualcomm Snapdragon 680        50MP + 2MP           5MP         17.02   \n",
       "\n",
       "   battery_capacity     battery_type  Discount_Given  \n",
       "0            5000.0          Lithium            5491  \n",
       "1            4500.0          Lithium            1701  \n",
       "2            5000.0          Lithium            4991  \n",
       "3            5000.0  Lithium Polymer            4000  \n",
       "4            6000.0  Lithium Polymer            5700  "
      ]
     },
     "execution_count": 50,
     "metadata": {},
     "output_type": "execute_result"
    }
   ],
   "source": [
    "smart_phone_copy.head()"
   ]
  },
  {
   "cell_type": "code",
   "execution_count": 60,
   "metadata": {},
   "outputs": [
    {
     "data": {
      "text/plain": [
       "array([31, 16, 11,  2,  2,  2,  1,  1,  7,  7,  6,  5,  5,  4,  4,  4,  4,\n",
       "        3,  3,  3,  3,  2,  2,  2,  2,  2,  1,  1,  1, 17,  1,  7,  3,  3,\n",
       "        2,  1,  1,  1,  3,  1,  1,  1,  1,  2,  1,  8,  6,  6,  5,  4,  4,\n",
       "        4,  2,  2,  2,  2,  2,  1,  1,  1,  1,  1,  1,  3,  2,  5,  9, 19,\n",
       "        7,  7,  5,  3,  3,  2,  2,  2,  2,  1,  1,  1,  1, 18, 15, 10,  7,\n",
       "        6,  6,  6,  5,  5,  5,  5,  4,  4,  4,  4,  4,  4,  4,  4,  3,  3,\n",
       "        3,  3,  3,  2,  2,  1,  1,  1,  1,  1, 29, 13,  8,  8,  7,  6,  5,\n",
       "        4,  4,  4,  4,  3,  3,  2,  2,  2,  2,  2,  1,  1,  1,  5,  4,  3,\n",
       "        3,  3,  3,  2,  1,  1,  1,  1,  1, 18, 13,  6,  5,  3,  3,  2,  2,\n",
       "        2,  2,  1,  1,  1,  1,  1,  1,  1, 51, 14, 10,  9,  9,  8,  8,  6,\n",
       "        6,  5,  5,  5,  4,  3,  3,  3,  3,  3,  2,  2,  2,  2,  2,  2,  1,\n",
       "        1,  1,  1,  1,  1,  1,  1,  1,  1,  1,  1], dtype=int64)"
      ]
     },
     "execution_count": 60,
     "metadata": {},
     "output_type": "execute_result"
    }
   ],
   "source": [
    "#plt.figure(figsize=(15,8))\n",
    "smart_phone_copy.groupby('brand')['processor'].value_counts().index #plot(kind = 'bar')\n",
    "smart_phone_copy.groupby('brand')['processor'].value_counts().values"
   ]
  },
  {
   "cell_type": "code",
   "execution_count": 61,
   "metadata": {},
   "outputs": [
    {
     "data": {
      "text/html": [
       "<div>\n",
       "<style scoped>\n",
       "    .dataframe tbody tr th:only-of-type {\n",
       "        vertical-align: middle;\n",
       "    }\n",
       "\n",
       "    .dataframe tbody tr th {\n",
       "        vertical-align: top;\n",
       "    }\n",
       "\n",
       "    .dataframe thead th {\n",
       "        text-align: right;\n",
       "    }\n",
       "</style>\n",
       "<table border=\"1\" class=\"dataframe\">\n",
       "  <thead>\n",
       "    <tr style=\"text-align: right;\">\n",
       "      <th></th>\n",
       "      <th>brand</th>\n",
       "      <th>model</th>\n",
       "      <th>colour</th>\n",
       "      <th>original_price</th>\n",
       "      <th>discounted_price</th>\n",
       "      <th>ratings</th>\n",
       "      <th>rating_count</th>\n",
       "      <th>reviews</th>\n",
       "      <th>memory</th>\n",
       "      <th>storage</th>\n",
       "      <th>processor</th>\n",
       "      <th>rear_camera</th>\n",
       "      <th>front_camera</th>\n",
       "      <th>display_size</th>\n",
       "      <th>battery_capacity</th>\n",
       "      <th>battery_type</th>\n",
       "      <th>Discount_Given</th>\n",
       "    </tr>\n",
       "  </thead>\n",
       "  <tbody>\n",
       "    <tr>\n",
       "      <th>0</th>\n",
       "      <td>VIVO</td>\n",
       "      <td>VIVO T1 44W</td>\n",
       "      <td>Starry Sky</td>\n",
       "      <td>19990</td>\n",
       "      <td>14499</td>\n",
       "      <td>4.5</td>\n",
       "      <td>87331</td>\n",
       "      <td>6044</td>\n",
       "      <td>4.0</td>\n",
       "      <td>128.0</td>\n",
       "      <td>Qualcomm Snapdragon 680</td>\n",
       "      <td>50MP + 2MP + 2MP</td>\n",
       "      <td>16MP</td>\n",
       "      <td>16.36</td>\n",
       "      <td>5000.0</td>\n",
       "      <td>Lithium</td>\n",
       "      <td>5491</td>\n",
       "    </tr>\n",
       "    <tr>\n",
       "      <th>1</th>\n",
       "      <td>APPLE</td>\n",
       "      <td>APPLE IPHONE 11</td>\n",
       "      <td>White</td>\n",
       "      <td>48900</td>\n",
       "      <td>47199</td>\n",
       "      <td>4.6</td>\n",
       "      <td>184191</td>\n",
       "      <td>10818</td>\n",
       "      <td>4.0</td>\n",
       "      <td>128.0</td>\n",
       "      <td>A Bionic Chip</td>\n",
       "      <td>12MP + 12MP</td>\n",
       "      <td>12MP</td>\n",
       "      <td>15.49</td>\n",
       "      <td>4500.0</td>\n",
       "      <td>Lithium</td>\n",
       "      <td>1701</td>\n",
       "    </tr>\n",
       "    <tr>\n",
       "      <th>2</th>\n",
       "      <td>VIVO</td>\n",
       "      <td>VIVO T1 44W</td>\n",
       "      <td>Midnight Galaxy</td>\n",
       "      <td>20990</td>\n",
       "      <td>15999</td>\n",
       "      <td>4.4</td>\n",
       "      <td>51365</td>\n",
       "      <td>3750</td>\n",
       "      <td>6.0</td>\n",
       "      <td>128.0</td>\n",
       "      <td>Qualcomm Snapdragon 680</td>\n",
       "      <td>50MP + 2MP + 2MP</td>\n",
       "      <td>16MP</td>\n",
       "      <td>16.36</td>\n",
       "      <td>5000.0</td>\n",
       "      <td>Lithium</td>\n",
       "      <td>4991</td>\n",
       "    </tr>\n",
       "    <tr>\n",
       "      <th>3</th>\n",
       "      <td>XIAOMI</td>\n",
       "      <td>POCO M4 5G</td>\n",
       "      <td>Power Black</td>\n",
       "      <td>15999</td>\n",
       "      <td>11999</td>\n",
       "      <td>4.2</td>\n",
       "      <td>53448</td>\n",
       "      <td>4185</td>\n",
       "      <td>4.0</td>\n",
       "      <td>64.0</td>\n",
       "      <td>Mediatek Dimensity 700</td>\n",
       "      <td>50MP + 2MP</td>\n",
       "      <td>8MP</td>\n",
       "      <td>16.71</td>\n",
       "      <td>5000.0</td>\n",
       "      <td>Lithium Polymer</td>\n",
       "      <td>4000</td>\n",
       "    </tr>\n",
       "    <tr>\n",
       "      <th>4</th>\n",
       "      <td>XIAOMI</td>\n",
       "      <td>REDMI 10</td>\n",
       "      <td>Caribbean Green</td>\n",
       "      <td>14999</td>\n",
       "      <td>9299</td>\n",
       "      <td>4.3</td>\n",
       "      <td>187787</td>\n",
       "      <td>12084</td>\n",
       "      <td>4.0</td>\n",
       "      <td>64.0</td>\n",
       "      <td>Qualcomm Snapdragon 680</td>\n",
       "      <td>50MP + 2MP</td>\n",
       "      <td>5MP</td>\n",
       "      <td>17.02</td>\n",
       "      <td>6000.0</td>\n",
       "      <td>Lithium Polymer</td>\n",
       "      <td>5700</td>\n",
       "    </tr>\n",
       "  </tbody>\n",
       "</table>\n",
       "</div>"
      ],
      "text/plain": [
       "    brand             model           colour  original_price  \\\n",
       "0    VIVO      VIVO T1 44W        Starry Sky           19990   \n",
       "1   APPLE  APPLE IPHONE 11             White           48900   \n",
       "2    VIVO      VIVO T1 44W   Midnight Galaxy           20990   \n",
       "3  XIAOMI       POCO M4 5G       Power Black           15999   \n",
       "4  XIAOMI         REDMI 10   Caribbean Green           14999   \n",
       "\n",
       "   discounted_price  ratings  rating_count  reviews  memory  storage  \\\n",
       "0             14499      4.5         87331     6044     4.0    128.0   \n",
       "1             47199      4.6        184191    10818     4.0    128.0   \n",
       "2             15999      4.4         51365     3750     6.0    128.0   \n",
       "3             11999      4.2         53448     4185     4.0     64.0   \n",
       "4              9299      4.3        187787    12084     4.0     64.0   \n",
       "\n",
       "                 processor        rear_camera front_camera  display_size  \\\n",
       "0  Qualcomm Snapdragon 680  50MP + 2MP + 2MP          16MP         16.36   \n",
       "1            A Bionic Chip       12MP + 12MP          12MP         15.49   \n",
       "2  Qualcomm Snapdragon 680  50MP + 2MP + 2MP          16MP         16.36   \n",
       "3   Mediatek Dimensity 700        50MP + 2MP           8MP         16.71   \n",
       "4  Qualcomm Snapdragon 680        50MP + 2MP           5MP         17.02   \n",
       "\n",
       "   battery_capacity     battery_type  Discount_Given  \n",
       "0            5000.0          Lithium            5491  \n",
       "1            4500.0          Lithium            1701  \n",
       "2            5000.0          Lithium            4991  \n",
       "3            5000.0  Lithium Polymer            4000  \n",
       "4            6000.0  Lithium Polymer            5700  "
      ]
     },
     "execution_count": 61,
     "metadata": {},
     "output_type": "execute_result"
    }
   ],
   "source": [
    "smart_phone_copy.head()"
   ]
  },
  {
   "cell_type": "code",
   "execution_count": 63,
   "metadata": {},
   "outputs": [],
   "source": [
    "smart_phone_copy.to_csv('flipkart_smartphone_cleaned_data.csv', index = False)"
   ]
  },
  {
   "cell_type": "code",
   "execution_count": null,
   "metadata": {},
   "outputs": [],
   "source": []
  }
 ],
 "metadata": {
  "kernelspec": {
   "display_name": "Python 3",
   "language": "python",
   "name": "python3"
  },
  "language_info": {
   "codemirror_mode": {
    "name": "ipython",
    "version": 3
   },
   "file_extension": ".py",
   "mimetype": "text/x-python",
   "name": "python",
   "nbconvert_exporter": "python",
   "pygments_lexer": "ipython3",
   "version": "3.11.1"
  },
  "orig_nbformat": 4
 },
 "nbformat": 4,
 "nbformat_minor": 2
}
